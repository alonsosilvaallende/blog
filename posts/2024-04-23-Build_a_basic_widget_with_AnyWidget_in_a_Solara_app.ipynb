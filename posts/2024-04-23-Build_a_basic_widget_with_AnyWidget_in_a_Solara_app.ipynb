{
 "cells": [
  {
   "cell_type": "raw",
   "id": "14c439c3-7a87-4e07-81b3-055da2268521",
   "metadata": {},
   "source": [
    "---\n",
    "title: \"Build a basic widget with AnyWidget in a Solara app\"\n",
    "author: \"Alonso Silva\"\n",
    "date: \"2024-04-23\"\n",
    "categories: [code, analysis]\n",
    "from: markdown+emoji\n",
    "format:\n",
    "    html:\n",
    "        code-tools: true\n",
    "        code-fold: false\n",
    "filters:\n",
    "  - quarto\n",
    "  - line-highlight\n",
    "jupyter: python3\n",
    "---"
   ]
  },
  {
   "cell_type": "markdown",
   "id": "5a5cad38-b67d-48cd-8036-4b7bca280735",
   "metadata": {},
   "source": [
    "# Build a basic widget with AnyWidget in a Solara app"
   ]
  },
  {
   "cell_type": "markdown",
   "id": "5a71ec27-4dcb-46d4-b863-6deaf3d6e344",
   "metadata": {},
   "source": [
    "Let's build the app below (try it out by clicking on the button and moving the slider)."
   ]
  },
  {
   "cell_type": "code",
   "execution_count": 20,
   "id": "fbdd57aa-1de6-430e-8aae-4b30a9de079f",
   "metadata": {
    "execution": {
     "iopub.execute_input": "2024-04-27T07:49:17.741272Z",
     "iopub.status.busy": "2024-04-27T07:49:17.740624Z",
     "iopub.status.idle": "2024-04-27T07:49:17.751634Z",
     "shell.execute_reply": "2024-04-27T07:49:17.750380Z",
     "shell.execute_reply.started": "2024-04-27T07:49:17.741216Z"
    }
   },
   "outputs": [
    {
     "data": {
      "text/html": [
       "\n",
       "        <iframe\n",
       "            width=\"100%\"\n",
       "            height=\"600\"\n",
       "            src=\"https://app.py.cafe/snippet/solara/v1?c=H4sIADmpLGYAA51UUWvbMBD-K4e6B4embsLYGA4eHaWwQQuDlu3FkCr2JRGVJU-Sk4bg_76zJTtOt73MgVg-fffdd6c7HVmuC2QJE2WljQOuDntRbNBlKlic4cJJdDZTmcoltxZuda0cmp8dMBpc4i_q4G2TJFNAzxJtCSlkrPt1psCaa7VG5wSsjS4JsHWussn1NTnEdnudc7Xj9qpH3czjj_Gsp1jXKndCKzCoCjTREUrKQU4BJTQTOHoUAIkGEtOpJRXRBNLPHhq3ujNKnXYyNlmMPVa1c8SdQqHzukTl4twgd3gnsf0iN48Y-3lL3FXnXlgX86Lo-dFc_dNBKIXm69PDPYV77tAgLLw79qqjSfP81oeo73YkpI2D5N7GkSJ_ydg0pDgUAEK2dpztdKgJoS9hfhI1wPkOl_mWqw3a6LTdnJYep1XL2uGSgfwPCf-TKgz9QYdL_BKTseqRktGSFPGqopa43QpZRD5uv934F7523VfgmtfSwTG0EDQBNu7UZW5tOjbE5-dJ3iuev2wMWYtkJWtcQEWnI9Qmmc-qV_hAf4sQ-I1vstU7CjtmoGaX2iQbg6gWvd5xeF-09DSQ8TeqxmwSO76J7EHl6ZOpcdKOaRgyqyU3fPgUVRhUC9xCWNJMe2XE7PExtTvN1w6JO1M3wZhrIlHUdxkVbA3f-Qajfsz3wm1751st61JF1h0kpseMhYpkLMnYeypIxprerX2C1wM3L4Xetw11QbeI13b56PUzktHjz66eGMNMdimkIZF4x-kspqDV8txOYzBiCvm3RXyUgppgYCuFSq_mn2ZTKPlr2i06yr8EOLefB3ib2ppyu-gT8IztCBzPWJsuW19dNmUGf9XCdLIsXdKj25k23aFqb24fh76p-38I3LPEUR9MGRbC3Sm-kgRqLc1vN6GYrewFAAA\"\n",
       "            frameborder=\"0\"\n",
       "            allowfullscreen\n",
       "            \n",
       "        ></iframe>\n",
       "        "
      ],
      "text/plain": [
       "<IPython.lib.display.IFrame at 0x7ac23860ea40>"
      ]
     },
     "execution_count": 20,
     "metadata": {},
     "output_type": "execute_result"
    }
   ],
   "source": [
    "#| echo: false\n",
    "from IPython.display import IFrame\n",
    "IFrame(\"https://app.py.cafe/snippet/solara/v1?c=H4sIADmpLGYAA51UUWvbMBD-K4e6B4embsLYGA4eHaWwQQuDlu3FkCr2JRGVJU-Sk4bg_76zJTtOt73MgVg-fffdd6c7HVmuC2QJE2WljQOuDntRbNBlKlic4cJJdDZTmcoltxZuda0cmp8dMBpc4i_q4G2TJFNAzxJtCSlkrPt1psCaa7VG5wSsjS4JsHWussn1NTnEdnudc7Xj9qpH3czjj_Gsp1jXKndCKzCoCjTREUrKQU4BJTQTOHoUAIkGEtOpJRXRBNLPHhq3ujNKnXYyNlmMPVa1c8SdQqHzukTl4twgd3gnsf0iN48Y-3lL3FXnXlgX86Lo-dFc_dNBKIXm69PDPYV77tAgLLw79qqjSfP81oeo73YkpI2D5N7GkSJ_ydg0pDgUAEK2dpztdKgJoS9hfhI1wPkOl_mWqw3a6LTdnJYep1XL2uGSgfwPCf-TKgz9QYdL_BKTseqRktGSFPGqopa43QpZRD5uv934F7523VfgmtfSwTG0EDQBNu7UZW5tOjbE5-dJ3iuev2wMWYtkJWtcQEWnI9Qmmc-qV_hAf4sQ-I1vstU7CjtmoGaX2iQbg6gWvd5xeF-09DSQ8TeqxmwSO76J7EHl6ZOpcdKOaRgyqyU3fPgUVRhUC9xCWNJMe2XE7PExtTvN1w6JO1M3wZhrIlHUdxkVbA3f-Qajfsz3wm1751st61JF1h0kpseMhYpkLMnYeypIxprerX2C1wM3L4Xetw11QbeI13b56PUzktHjz66eGMNMdimkIZF4x-kspqDV8txOYzBiCvm3RXyUgppgYCuFSq_mn2ZTKPlr2i06yr8EOLefB3ib2ppyu-gT8IztCBzPWJsuW19dNmUGf9XCdLIsXdKj25k23aFqb24fh76p-38I3LPEUR9MGRbC3Sm-kgRqLc1vN6GYrewFAAA\", width=\"100%\", height=600)"
   ]
  },
  {
   "cell_type": "markdown",
   "id": "fe2f1789-29a9-46bb-9a95-44a5ab919102",
   "metadata": {},
   "source": [
    "[AnyWidget](https://anywidget.dev/) is a Python library that simplifies creating and publishing custom Jupyter Widgets. Since Jupyter Widgets have a VIP treatment in [Solara](https://solara.dev/) :sunny:, we expect them to work especially well there. This is indeed the case."
   ]
  },
  {
   "cell_type": "markdown",
   "id": "2a982722-b263-44e4-a3d3-2e4eb977789a",
   "metadata": {},
   "source": [
    "First things first, let's install AnyWidget and Solara :sunny:.\n",
    "```console\n",
    "$ pip install anywidget solara\n",
    "```"
   ]
  },
  {
   "cell_type": "markdown",
   "id": "54bb3031-3ecb-4d4f-8ddf-dd6dfa461f86",
   "metadata": {},
   "source": [
    "Let's now take the [starting example](https://anywidget.dev/en/getting-started/) from [AnyWidget](https://anywidget.dev/):"
   ]
  },
  {
   "cell_type": "code",
   "execution_count": 2,
   "id": "a02afd75-54a3-457d-a76e-e5978cc8302c",
   "metadata": {
    "execution": {
     "iopub.execute_input": "2024-04-27T06:00:07.422687Z",
     "iopub.status.busy": "2024-04-27T06:00:07.422097Z",
     "iopub.status.idle": "2024-04-27T06:00:07.498500Z",
     "shell.execute_reply": "2024-04-27T06:00:07.497153Z",
     "shell.execute_reply.started": "2024-04-27T06:00:07.422641Z"
    }
   },
   "outputs": [],
   "source": [
    "#| echo: true\n",
    "import anywidget\n",
    "import traitlets\n",
    "\n",
    "class CounterWidget(anywidget.AnyWidget):\n",
    "    _esm = \"\"\"\n",
    "    function render({ model, el }) {\n",
    "      let getCount = () => model.get(\"count\");\n",
    "      let button = document.createElement(\"button\");\n",
    "      button.classList.add(\"counter-button\");\n",
    "      button.innerHTML = `count is ${getCount()}`;\n",
    "      button.addEventListener(\"click\", () => {\n",
    "        model.set(\"count\", getCount() + 1);\n",
    "        model.save_changes();\n",
    "      });\n",
    "      model.on(\"change:count\", () => {\n",
    "        button.innerHTML = `count is ${getCount()}`;\n",
    "      });\n",
    "      el.appendChild(button);\n",
    "    }\n",
    "\texport default { render };\n",
    "    \"\"\"\n",
    "    _css=\"\"\"\n",
    "    .counter-button { background-color: #ea580c; }\n",
    "    .counter-button:hover { background-color: #9a3412; }\n",
    "    \"\"\"\n",
    "    count = traitlets.Int(0).tag(sync=True)"
   ]
  },
  {
   "cell_type": "markdown",
   "id": "dafb45eb-16a2-47ed-9488-5c7e9f0b2ea4",
   "metadata": {},
   "source": [
    "We can create our Solara app by adding just a few lines of code:"
   ]
  },
  {
   "cell_type": "code",
   "execution_count": 7,
   "id": "2d45d58d-8488-4494-85db-e5482aae2b3e",
   "metadata": {
    "execution": {
     "iopub.execute_input": "2024-04-27T06:03:29.852207Z",
     "iopub.status.busy": "2024-04-27T06:03:29.851646Z",
     "iopub.status.idle": "2024-04-27T06:03:29.879857Z",
     "shell.execute_reply": "2024-04-27T06:03:29.879033Z",
     "shell.execute_reply.started": "2024-04-27T06:03:29.852156Z"
    }
   },
   "outputs": [
    {
     "data": {
      "application/vnd.jupyter.widget-view+json": {
       "model_id": "effeb1cda84d4d95bf4686407549f78a",
       "version_major": 2,
       "version_minor": 0
      },
      "text/html": [
       "Cannot show widget. You probably want to rerun the code cell above (<i>Click in the code cell, and press Shift+Enter <kbd>⇧</kbd>+<kbd>↩</kbd></i>)."
      ],
      "text/plain": [
       "Cannot show ipywidgets in text"
      ]
     },
     "metadata": {},
     "output_type": "display_data"
    }
   ],
   "source": [
    "#| echo: true\n",
    "#| source-line-numbers: \"28-34\"\n",
    "#| class-source: \"numberLines\"\n",
    "import anywidget\n",
    "import traitlets\n",
    "\n",
    "class CounterWidget(anywidget.AnyWidget):\n",
    "    _esm = \"\"\"\n",
    "    function render({ model, el }) {\n",
    "      let getCount = () => model.get(\"count\");\n",
    "      let button = document.createElement(\"button\");\n",
    "      button.classList.add(\"counter-button\");\n",
    "      button.innerHTML = `count is ${getCount()}`;\n",
    "      button.addEventListener(\"click\", () => {\n",
    "        model.set(\"count\", getCount() + 1);\n",
    "        model.save_changes();\n",
    "      });\n",
    "      model.on(\"change:count\", () => {\n",
    "        button.innerHTML = `count is ${getCount()}`;\n",
    "      });\n",
    "      el.appendChild(button);\n",
    "    }\n",
    "\texport default { render };\n",
    "    \"\"\"\n",
    "    _css=\"\"\"\n",
    "    .counter-button { background-color: #ea580c; }\n",
    "    .counter-button:hover { background-color: #9a3412; }\n",
    "    \"\"\"\n",
    "    count = traitlets.Int(0).tag(sync=True)\n",
    "\n",
    "import solara\n",
    "@solara.component\n",
    "def Page():\n",
    "    with solara.Column(style={\"padding\":\"30px\"}):\n",
    "        solara.Markdown(\"#Anywidget+Solara\")\n",
    "        CounterWidget.element()\n",
    "Page()"
   ]
  },
  {
   "cell_type": "code",
   "execution_count": 4,
   "id": "2455bd1b-5c47-4ea0-875d-d73b34ed099d",
   "metadata": {
    "execution": {
     "iopub.execute_input": "2024-04-27T06:00:15.537057Z",
     "iopub.status.busy": "2024-04-27T06:00:15.536493Z",
     "iopub.status.idle": "2024-04-27T06:00:15.546851Z",
     "shell.execute_reply": "2024-04-27T06:00:15.545666Z",
     "shell.execute_reply.started": "2024-04-27T06:00:15.537006Z"
    }
   },
   "outputs": [
    {
     "data": {
      "text/html": [
       "\n",
       "        <iframe\n",
       "            width=\"100%\"\n",
       "            height=\"600\"\n",
       "            src=\"https://app.py.cafe/snippet/solara/v1?c=H4sIAB-TLGYAA51UUWvbMBD-K0Ldg01Tk64bbC4eGyGwQQuDle1FkCryxRFRJE-Skwbj_76zZTtut73UeYh993333Z3uVFNhcqAplfvSWE-4Ph1lXoBnurd4y6VX4B3TTAvFnSMLU2kP9lcHjEZK8kWfgi1OmSb4rMDtSUYY7X6daVNp4aXRxILOwUY12WMCakZAkSYmdUARgooEI3VSGCKKSfYpQJNWlGHe6GE0vp0y1pX3GDsjuRHVHrRPhAXuYamg_UJaQEx5wZJ0pd1J5xOe50N8sFf_JUitwX59uL9DuccOTaQjb-oh6yhuHl9yMPTygIm0OoD0VkdJsWN01pc4NoD01bpptbOxJ4i-JNfnpEY4P8BKbLkuwEVnd3N-DTij26gdLh2D_5XCa0qdSKEOL0s86MVWqjwK0QZ3E_7gqRuzHDa8Up7U_WCQpodNh2clnMumhuT5KSF7zcWusGjNr4RRxqbkAvj7D3NxOwi-4KRbc0C5fzI_8pt3129H5lQ5dCE7r0fyDfswjxPPi8idtMgebAVxuzT9IjmjuOWt4XN4xUTQo3EcGFa8Id95AdGwOkfptz0lWRhV7XXk_ElBVjNa4hhJXTCaMnozL58YbQZa-_Sse253uTm253yBmxl29PJHyIJiZgP-2Ton0K8KAkJCdEYt_K6k7ewO74rJJYFOfyrbCySo4jee-E8JR5p6bMCMQi79UvO1QlBraf4A8dvGjXMEAAA\"\n",
       "            frameborder=\"0\"\n",
       "            allowfullscreen\n",
       "            \n",
       "        ></iframe>\n",
       "        "
      ],
      "text/plain": [
       "<IPython.lib.display.IFrame at 0x7ac24f585360>"
      ]
     },
     "execution_count": 4,
     "metadata": {},
     "output_type": "execute_result"
    }
   ],
   "source": [
    "#| echo: false\n",
    "from IPython.display import IFrame\n",
    "IFrame(\"https://app.py.cafe/snippet/solara/v1?c=H4sIAB-TLGYAA51UUWvbMBD-K0Ldg01Tk64bbC4eGyGwQQuDle1FkCryxRFRJE-Skwbj_76zZTtut73UeYh993333Z3uVFNhcqAplfvSWE-4Ph1lXoBnurd4y6VX4B3TTAvFnSMLU2kP9lcHjEZK8kWfgi1OmSb4rMDtSUYY7X6daVNp4aXRxILOwUY12WMCakZAkSYmdUARgooEI3VSGCKKSfYpQJNWlGHe6GE0vp0y1pX3GDsjuRHVHrRPhAXuYamg_UJaQEx5wZJ0pd1J5xOe50N8sFf_JUitwX59uL9DuccOTaQjb-oh6yhuHl9yMPTygIm0OoD0VkdJsWN01pc4NoD01bpptbOxJ4i-JNfnpEY4P8BKbLkuwEVnd3N-DTij26gdLh2D_5XCa0qdSKEOL0s86MVWqjwK0QZ3E_7gqRuzHDa8Up7U_WCQpodNh2clnMumhuT5KSF7zcWusGjNr4RRxqbkAvj7D3NxOwi-4KRbc0C5fzI_8pt3129H5lQ5dCE7r0fyDfswjxPPi8idtMgebAVxuzT9IjmjuOWt4XN4xUTQo3EcGFa8Id95AdGwOkfptz0lWRhV7XXk_ElBVjNa4hhJXTCaMnozL58YbQZa-_Sse253uTm253yBmxl29PJHyIJiZgP-2Ton0K8KAkJCdEYt_K6k7ewO74rJJYFOfyrbCySo4jee-E8JR5p6bMCMQi79UvO1QlBraf4A8dvGjXMEAAA\", width=\"100%\", height=600)"
   ]
  },
  {
   "cell_type": "markdown",
   "id": "d8b2b494-9001-47e0-b94b-420a943fd92e",
   "metadata": {},
   "source": [
    "From [Solara documentation](https://solara.dev/documentation/advanced/howto/ipywidget-libraries), we know that in [Solara](https://solara.dev/), we should not create widgets, but elements instead. We can create elements by using the `.element(...)` method (as we did above). This method takes the same arguments as the widget constructor, but returns an element instead of a widget. The element can be used in the same way as a widget, but it is not a widget. It is a special object that can be used in [Solara](https://solara.dev/)."
   ]
  },
  {
   "cell_type": "markdown",
   "id": "ea39a6a6-2388-4159-8bbd-73393cd2d9db",
   "metadata": {},
   "source": [
    "To make it more interesting, let's modify our `CounterWidget` by changing the `_css` and adding some confetti from the [canvas-confetti](https://www.npmjs.com/package/canvas-confetti) javascript package."
   ]
  },
  {
   "cell_type": "code",
   "execution_count": 21,
   "id": "28e5e1e8-02a9-4f60-8290-69f8b3ee23fd",
   "metadata": {
    "execution": {
     "iopub.execute_input": "2024-04-27T07:55:58.630885Z",
     "iopub.status.busy": "2024-04-27T07:55:58.630319Z",
     "iopub.status.idle": "2024-04-27T07:55:58.658216Z",
     "shell.execute_reply": "2024-04-27T07:55:58.657392Z",
     "shell.execute_reply.started": "2024-04-27T07:55:58.630800Z"
    }
   },
   "outputs": [
    {
     "data": {
      "application/vnd.jupyter.widget-view+json": {
       "model_id": "7b5a03fb755b4cd0810d5c943f5c46af",
       "version_major": 2,
       "version_minor": 0
      },
      "text/html": [
       "Cannot show widget. You probably want to rerun the code cell above (<i>Click in the code cell, and press Shift+Enter <kbd>⇧</kbd>+<kbd>↩</kbd></i>)."
      ],
      "text/plain": [
       "Cannot show ipywidgets in text"
      ]
     },
     "metadata": {},
     "output_type": "display_data"
    }
   ],
   "source": [
    "#| echo: true\n",
    "#| source-line-numbers: \"6,18,24-27\"\n",
    "#| class-source: \"numberLines\"\n",
    "import anywidget\n",
    "import traitlets\n",
    "\n",
    "class CounterWidget(anywidget.AnyWidget):\n",
    "    _esm = \"\"\"\n",
    "    import confetti from \"https://esm.sh/canvas-confetti@1.6.0\"\n",
    "    function render({ model, el }) {\n",
    "      let getCount = () => model.get(\"count\");\n",
    "      let button = document.createElement(\"button\");\n",
    "      button.classList.add(\"counter-button\");\n",
    "      button.innerHTML = `count is ${getCount()}`;\n",
    "      button.addEventListener(\"click\", () => {\n",
    "        model.set(\"count\", getCount() + 1);\n",
    "        model.save_changes();\n",
    "      });\n",
    "      model.on(\"change:count\", () => {\n",
    "        button.innerHTML = `count is ${getCount()}`;\n",
    "        confetti({ angle: getCount() });\n",
    "      });\n",
    "      el.appendChild(button);\n",
    "    }\n",
    "\texport default { render };\n",
    "    \"\"\"\n",
    "    _css=\"\"\"\n",
    "    .counter-button { background:blue; padding:10px 50px;}\n",
    "    .counter-button:hover { background-color:green; }\n",
    "    \"\"\"\n",
    "    count = traitlets.Int(0).tag(sync=True)\n",
    "\n",
    "import solara\n",
    "@solara.component\n",
    "def Page():\n",
    "    with solara.Column(style={\"padding\":\"30px\"}):\n",
    "        solara.Markdown(\"#Anywidget+Solara\")\n",
    "        CounterWidget.element()\n",
    "Page()"
   ]
  },
  {
   "cell_type": "code",
   "execution_count": 23,
   "id": "80f2835c-3a00-497a-ab7d-049c1032c4a5",
   "metadata": {
    "execution": {
     "iopub.execute_input": "2024-04-27T08:00:45.176966Z",
     "iopub.status.busy": "2024-04-27T08:00:45.176323Z",
     "iopub.status.idle": "2024-04-27T08:00:45.188636Z",
     "shell.execute_reply": "2024-04-27T08:00:45.186808Z",
     "shell.execute_reply.started": "2024-04-27T08:00:45.176911Z"
    }
   },
   "outputs": [
    {
     "data": {
      "text/html": [
       "\n",
       "        <iframe\n",
       "            width=\"100%\"\n",
       "            height=\"600\"\n",
       "            src=\"https://app.py.cafe/snippet/solara/v1?c=H4sIAMSvLGYAA51UUWvbMBD-K4e2B5umasvYHhw8OkphgxYGK9uLIFXsiyOiSJ4kJw3B_31ny07cjr3MgVg-fd_dd9LdHVlhS2QZU9vaugDSHPaqrDAIM1iCkypoDF4YYQotvYc725iA7lcPTE4U_sUcoi3NhAF6Fui3kINg_a83DV4La1YYgoKVs1sCrEOofXZ1RQTu11eFNDvpL0fU7Q3_xK9HF6vGFEFZAw5NiS45wpZy0DNADW0Kx4gCINFAYnq1pCJJIf8cobzTLSh12hEsnU8ZyyYE8p1DaYtmiybwwqEMeK-x-yJaREx50cL703lQPnBZlqN_dJf_JChj0H19enygcM89GpSH98dRdZK2z2855Pp-R0K6OEj0Lo5WxUaw2ZDi6QBgyNZPs52dzoTQF3BzFnWCyx0uirU0FfrkvN2elxFnTee1x2Un539J-J9U4VQfdLnkX2M2VT1RMlmSIlnXVBJ3a6XLJMYdt9v4wpe--kpcyUYHOA4lBO0Am1bqovA-nxr46_sk9lIWm8qRtcyWusE51HQ7ylTZzXX9Ah_pbz4EfsPN1nZHYaceqNi1dVnlEM181DsNHw8tPzck_0ancZ3yIKvEH0yRP7kG065NhybzVksnhbmNC9JAdkO1IyjpFXyXFSZjq-5VWA8Efmd1szWJDweN-VGwISvBMsE-UFKCtSOtewbWo3Sb0u67onhHkyDOhIsfUQMjXSP-1fjgOPQVAaIgNmMOfzfK9XZPs2kylGgzHOpuYMWo9E2X_lPhnmWB0p8xLFW4N3KpCdRZ2j_drM7m4wQAAA\"\n",
       "            frameborder=\"0\"\n",
       "            allowfullscreen\n",
       "            \n",
       "        ></iframe>\n",
       "        "
      ],
      "text/plain": [
       "<IPython.lib.display.IFrame at 0x7ac23860c610>"
      ]
     },
     "execution_count": 23,
     "metadata": {},
     "output_type": "execute_result"
    }
   ],
   "source": [
    "#| echo: false\n",
    "from IPython.display import IFrame\n",
    "IFrame(\"https://app.py.cafe/snippet/solara/v1?c=H4sIAMSvLGYAA51UUWvbMBD-K4e2B5umasvYHhw8OkphgxYGK9uLIFXsiyOiSJ4kJw3B_31ny07cjr3MgVg-fd_dd9LdHVlhS2QZU9vaugDSHPaqrDAIM1iCkypoDF4YYQotvYc725iA7lcPTE4U_sUcoi3NhAF6Fui3kINg_a83DV4La1YYgoKVs1sCrEOofXZ1RQTu11eFNDvpL0fU7Q3_xK9HF6vGFEFZAw5NiS45wpZy0DNADW0Kx4gCINFAYnq1pCJJIf8cobzTLSh12hEsnU8ZyyYE8p1DaYtmiybwwqEMeK-x-yJaREx50cL703lQPnBZlqN_dJf_JChj0H19enygcM89GpSH98dRdZK2z2855Pp-R0K6OEj0Lo5WxUaw2ZDi6QBgyNZPs52dzoTQF3BzFnWCyx0uirU0FfrkvN2elxFnTee1x2Un539J-J9U4VQfdLnkX2M2VT1RMlmSIlnXVBJ3a6XLJMYdt9v4wpe--kpcyUYHOA4lBO0Am1bqovA-nxr46_sk9lIWm8qRtcyWusE51HQ7ylTZzXX9Ah_pbz4EfsPN1nZHYaceqNi1dVnlEM181DsNHw8tPzck_0ancZ3yIKvEH0yRP7kG065NhybzVksnhbmNC9JAdkO1IyjpFXyXFSZjq-5VWA8Efmd1szWJDweN-VGwISvBMsE-UFKCtSOtewbWo3Sb0u67onhHkyDOhIsfUQMjXSP-1fjgOPQVAaIgNmMOfzfK9XZPs2kylGgzHOpuYMWo9E2X_lPhnmWB0p8xLFW4N3KpCdRZ2j_drM7m4wQAAA\", width=\"100%\", height=600)"
   ]
  },
  {
   "cell_type": "markdown",
   "id": "255e25c7-fe58-46b5-84aa-a40937200bd2",
   "metadata": {},
   "source": [
    "If you want to access the value of the `CounterWidget` counter, we can do it through a reactive variable `counter` (thanks to [Jonathan](https://twitter.com/johnowhitaker) and [Maarten](https://twitter.com/maartenbreddels) for this suggestion):"
   ]
  },
  {
   "cell_type": "code",
   "execution_count": 22,
   "id": "dae1d607-f498-4c05-a1d0-909c717f7029",
   "metadata": {
    "execution": {
     "iopub.execute_input": "2024-04-27T07:56:15.940719Z",
     "iopub.status.busy": "2024-04-27T07:56:15.939995Z",
     "iopub.status.idle": "2024-04-27T07:56:15.971602Z",
     "shell.execute_reply": "2024-04-27T07:56:15.970706Z",
     "shell.execute_reply.started": "2024-04-27T07:56:15.940644Z"
    }
   },
   "outputs": [
    {
     "data": {
      "application/vnd.jupyter.widget-view+json": {
       "model_id": "8c8885df5dd642f8a7f7298ba0058426",
       "version_major": 2,
       "version_minor": 0
      },
      "text/html": [
       "Cannot show widget. You probably want to rerun the code cell above (<i>Click in the code cell, and press Shift+Enter <kbd>⇧</kbd>+<kbd>↩</kbd></i>)."
      ],
      "text/plain": [
       "Cannot show ipywidgets in text"
      ]
     },
     "metadata": {},
     "output_type": "display_data"
    }
   ],
   "source": [
    "#| echo: true\n",
    "#| source-line-numbers: \"31,36-37\"\n",
    "#| class-source: \"numberLines\"\n",
    "import anywidget\n",
    "import traitlets\n",
    "\n",
    "class CounterWidget(anywidget.AnyWidget):\n",
    "    _esm = \"\"\"\n",
    "    import confetti from \"https://esm.sh/canvas-confetti@1.6.0\"\n",
    "    function render({ model, el }) {\n",
    "      let getCount = () => model.get(\"count\");\n",
    "      let button = document.createElement(\"button\");\n",
    "      button.classList.add(\"counter-button\");\n",
    "      button.innerHTML = `count is ${getCount()}`;\n",
    "      button.addEventListener(\"click\", () => {\n",
    "        model.set(\"count\", getCount() + 1);\n",
    "        model.save_changes();\n",
    "      });\n",
    "      model.on(\"change:count\", () => {\n",
    "        button.innerHTML = `count is ${getCount()}`;\n",
    "        confetti({ angle: getCount() });\n",
    "      });\n",
    "      el.appendChild(button);\n",
    "    }\n",
    "\texport default { render };\n",
    "    \"\"\"\n",
    "    _css=\"\"\"\n",
    "    .counter-button { background:blue; padding:10px 50px;}\n",
    "    .counter-button:hover { background-color:green; }\n",
    "    \"\"\"\n",
    "    count = traitlets.Int(0).tag(sync=True)\n",
    "\n",
    "import solara\n",
    "counter = solara.reactive(0)\n",
    "@solara.component\n",
    "def Page():\n",
    "    with solara.Column(style={\"padding\":\"30px\"}):\n",
    "        solara.Markdown(\"#Anywidget+Solara\")\n",
    "        CounterWidget.element(count=counter.value, on_count=counter.set)\n",
    "        solara.Markdown(f\"## Counter value is {counter.value}\")\n",
    "Page()"
   ]
  },
  {
   "cell_type": "code",
   "execution_count": 24,
   "id": "07b70a0e-13d0-428c-a58d-e5dc61f3ba5f",
   "metadata": {
    "execution": {
     "iopub.execute_input": "2024-04-27T08:02:13.453680Z",
     "iopub.status.busy": "2024-04-27T08:02:13.453036Z",
     "iopub.status.idle": "2024-04-27T08:02:13.464951Z",
     "shell.execute_reply": "2024-04-27T08:02:13.463423Z",
     "shell.execute_reply.started": "2024-04-27T08:02:13.453626Z"
    }
   },
   "outputs": [
    {
     "data": {
      "text/html": [
       "\n",
       "        <iframe\n",
       "            width=\"100%\"\n",
       "            height=\"600\"\n",
       "            src=\"https://app.py.cafe/snippet/solara/v1?c=H4sIAB-wLGYAA51UUWvbMBD-K4e2B4emasvYHhw8OkphgxYGK9uLIFXsiyOqSJ4kJw3G_31ny06cjr0sgcQ-fd_dd6e7a1huC2QpU9vKugDSHPaqKDEIM1iCkypoDF4YYXItvYc7W5uA7lcPTI4U_sUcom2WCgP0WaLfQgaC9d_eNHjNrVljCArWzm4JsAmh8unVFRG431zl0uykvxxRtzf8E78eXaxrkwdlDTg0BbqkgS3loOeAGtoZNBEFQKKBxPRqSUUyg-xzhPJOt6DU6USw2WLKWNUhkO8MCpvXWzSB5w5lwHuN3RvRImLKixbeV-dB-cBlUYz-0V3-k6CMQff16fGBwj33aFAe3jej6mTWPr_lkOv7HQnp4iDRuzha5S-CzYcUjwWAIVs_zXZ-rAmhL-DmJOoIlztc5htpSvTJ6bg9PUacNZ3XHpcenf8l4X9ShWN_0OWSf43pVPVEyeSRFMmqopa42yhdJDHueNzGP3ztu6_Atax1gGZoIWgH2LRTl7n32dTAz--T2CuZv5SOrEW60jUuoKLbUaZMb66rV_hIP4sh8BtuurE7Cjv1QM2urUtLh2gWo95p-Fi07DSQ_BtV43rGgywTfzB59uRqnHVjOgyZt1o6SVMbYxM3Wjg1NE3QDoktzO1gzC2xDHWWoJKs4bssMRkHea_CZiTfWV1vTeLDQWPWCDbkLFgq2AdKWbB2pHWfgfUo3Uth913LvKM9ETfGxY-okJGMEX-2XDgOU9enkA2J8J2kas_BmuW5nRp94ult5DWFfjf6h95H14PNmde2FxOTZ3Pm8HetXK_B05acrEc6DIeqW50xDr1T-_1UuGdpoIuYMyxUuDdypQnUWdo_MinM-20FAAA\"\n",
       "            frameborder=\"0\"\n",
       "            allowfullscreen\n",
       "            \n",
       "        ></iframe>\n",
       "        "
      ],
      "text/plain": [
       "<IPython.lib.display.IFrame at 0x7ac23860c100>"
      ]
     },
     "execution_count": 24,
     "metadata": {},
     "output_type": "execute_result"
    }
   ],
   "source": [
    "#| echo: false\n",
    "from IPython.display import IFrame\n",
    "IFrame(\"https://app.py.cafe/snippet/solara/v1?c=H4sIAB-wLGYAA51UUWvbMBD-K4e2B4emasvYHhw8OkphgxYGK9uLIFXsiyOqSJ4kJw3G_31ny06cjr0sgcQ-fd_dd6e7a1huC2QpU9vKugDSHPaqKDEIM1iCkypoDF4YYXItvYc7W5uA7lcPTI4U_sUcom2WCgP0WaLfQgaC9d_eNHjNrVljCArWzm4JsAmh8unVFRG431zl0uykvxxRtzf8E78eXaxrkwdlDTg0BbqkgS3loOeAGtoZNBEFQKKBxPRqSUUyg-xzhPJOt6DU6USw2WLKWNUhkO8MCpvXWzSB5w5lwHuN3RvRImLKixbeV-dB-cBlUYz-0V3-k6CMQff16fGBwj33aFAe3jej6mTWPr_lkOv7HQnp4iDRuzha5S-CzYcUjwWAIVs_zXZ-rAmhL-DmJOoIlztc5htpSvTJ6bg9PUacNZ3XHpcenf8l4X9ShWN_0OWSf43pVPVEyeSRFMmqopa42yhdJDHueNzGP3ztu6_Atax1gGZoIWgH2LRTl7n32dTAz--T2CuZv5SOrEW60jUuoKLbUaZMb66rV_hIP4sh8BtuurE7Cjv1QM2urUtLh2gWo95p-Fi07DSQ_BtV43rGgywTfzB59uRqnHVjOgyZt1o6SVMbYxM3Wjg1NE3QDoktzO1gzC2xDHWWoJKs4bssMRkHea_CZiTfWV1vTeLDQWPWCDbkLFgq2AdKWbB2pHWfgfUo3Uth913LvKM9ETfGxY-okJGMEX-2XDgOU9enkA2J8J2kas_BmuW5nRp94ult5DWFfjf6h95H14PNmde2FxOTZ3Pm8HetXK_B05acrEc6DIeqW50xDr1T-_1UuGdpoIuYMyxUuDdypQnUWdo_MinM-20FAAA\", width=\"100%\", height=600)"
   ]
  },
  {
   "cell_type": "markdown",
   "id": "3f6fcc1a-8667-4a9c-b7e2-28fe76f68c90",
   "metadata": {},
   "source": [
    "We can add a slider from [Jupyter Widgets](https://ipywidgets.readthedocs.io/en/stable/) and link it to the reactive variable `counter`."
   ]
  },
  {
   "cell_type": "code",
   "execution_count": 18,
   "id": "240ec190-2400-47f7-a65c-a112f654d42d",
   "metadata": {
    "execution": {
     "iopub.execute_input": "2024-04-27T07:29:58.862123Z",
     "iopub.status.busy": "2024-04-27T07:29:58.861397Z",
     "iopub.status.idle": "2024-04-27T07:29:58.889967Z",
     "shell.execute_reply": "2024-04-27T07:29:58.889493Z",
     "shell.execute_reply.started": "2024-04-27T07:29:58.862049Z"
    }
   },
   "outputs": [
    {
     "data": {
      "application/vnd.jupyter.widget-view+json": {
       "model_id": "3761b3372484471a86f67f46c8832b7d",
       "version_major": 2,
       "version_minor": 0
      },
      "text/html": [
       "Cannot show widget. You probably want to rerun the code cell above (<i>Click in the code cell, and press Shift+Enter <kbd>⇧</kbd>+<kbd>↩</kbd></i>)."
      ],
      "text/plain": [
       "Cannot show ipywidgets in text"
      ]
     },
     "metadata": {},
     "output_type": "display_data"
    }
   ],
   "source": [
    "#| echo: true\n",
    "#| source-line-numbers: \"31,38\"\n",
    "#| class-source: \"numberLines\"\n",
    "import anywidget\n",
    "import traitlets\n",
    "\n",
    "class CounterWidget(anywidget.AnyWidget):\n",
    "    _esm = \"\"\"\n",
    "    import confetti from \"https://esm.sh/canvas-confetti@1.6.0\"\n",
    "    function render({ model, el }) {\n",
    "      let getCount = () => model.get(\"count\");\n",
    "      let button = document.createElement(\"button\");\n",
    "      button.classList.add(\"counter-button\");\n",
    "      button.innerHTML = `count is ${getCount()}`;\n",
    "      button.addEventListener(\"click\", () => {\n",
    "        model.set(\"count\", getCount() + 1);\n",
    "        model.save_changes();\n",
    "      });\n",
    "      model.on(\"change:count\", () => {\n",
    "        button.innerHTML = `count is ${getCount()}`;\n",
    "        confetti({ angle: getCount() });\n",
    "      });\n",
    "      el.appendChild(button);\n",
    "    }\n",
    "    export default { render };\n",
    "    \"\"\"\n",
    "    _css=\"\"\"\n",
    "    .counter-button { background:blue; padding:10px 50px;}\n",
    "    .counter-button:hover { background-color:green; }\n",
    "    \"\"\"\n",
    "    count = traitlets.Int(0).tag(sync=True)\n",
    "\n",
    "import solara\n",
    "import ipywidgets as widgets\n",
    "counter = solara.reactive(0)\n",
    "@solara.component\n",
    "def Page():\n",
    "    with solara.Column(style={\"padding\":\"30px\"}):\n",
    "        solara.Markdown(\"#Anywidget+Solara\")\n",
    "        CounterWidget.element(count=counter.value, on_count=counter.set)\n",
    "        widgets.IntSlider.element(min=-180, max=180, value=counter.value, on_value=counter.set)\n",
    "        solara.Markdown(f\"## Counter value is {counter.value}\")\n",
    "Page()"
   ]
  },
  {
   "cell_type": "code",
   "execution_count": 19,
   "id": "9d40e943-96e9-403e-8009-8adb4c2b3301",
   "metadata": {
    "execution": {
     "iopub.execute_input": "2024-04-27T07:33:37.837964Z",
     "iopub.status.busy": "2024-04-27T07:33:37.837264Z",
     "iopub.status.idle": "2024-04-27T07:33:37.848745Z",
     "shell.execute_reply": "2024-04-27T07:33:37.847365Z",
     "shell.execute_reply.started": "2024-04-27T07:33:37.837905Z"
    }
   },
   "outputs": [
    {
     "data": {
      "text/html": [
       "\n",
       "        <iframe\n",
       "            width=\"100%\"\n",
       "            height=\"600\"\n",
       "            src=\"https://app.py.cafe/snippet/solara/v1?c=H4sIADmpLGYAA51UUWvbMBD-K4e6B4embsLYGA4eHaWwQQuDlu3FkCr2JRGVJU-Sk4bg_76zJTtOt73MgVg-fffdd6c7HVmuC2QJE2WljQOuDntRbNBlKlic4cJJdDZTmcoltxZuda0cmp8dMBpc4i_q4G2TJFNAzxJtCSlkrPt1psCaa7VG5wSsjS4JsHWussn1NTnEdnudc7Xj9qpH3czjj_Gsp1jXKndCKzCoCjTREUrKQU4BJTQTOHoUAIkGEtOpJRXRBNLPHhq3ujNKnXYyNlmMPVa1c8SdQqHzukTl4twgd3gnsf0iN48Y-3lL3FXnXlgX86Lo-dFc_dNBKIXm69PDPYV77tAgLLw79qqjSfP81oeo73YkpI2D5N7GkSJ_ydg0pDgUAEK2dpztdKgJoS9hfhI1wPkOl_mWqw3a6LTdnJYep1XL2uGSgfwPCf-TKgz9QYdL_BKTseqRktGSFPGqopa43QpZRD5uv934F7523VfgmtfSwTG0EDQBNu7UZW5tOjbE5-dJ3iuev2wMWYtkJWtcQEWnI9Qmmc-qV_hAf4sQ-I1vstU7CjtmoGaX2iQbg6gWvd5xeF-09DSQ8TeqxmwSO76J7EHl6ZOpcdKOaRgyqyU3fPgUVRhUC9xCWNJMe2XE7PExtTvN1w6JO1M3wZhrIlHUdxkVbA3f-Qajfsz3wm1751st61JF1h0kpseMhYpkLMnYeypIxprerX2C1wM3L4Xetw11QbeI13b56PUzktHjz66eGMNMdimkIZF4x-kspqDV8txOYzBiCvm3RXyUgppgYCuFSq_mn2ZTKPlr2i06yr8EOLefB3ib2ppyu-gT8IztCBzPWJsuW19dNmUGf9XCdLIsXdKj25k23aFqb24fh76p-38I3LPEUR9MGRbC3Sm-kgRqLc1vN6GYrewFAAA\"\n",
       "            frameborder=\"0\"\n",
       "            allowfullscreen\n",
       "            \n",
       "        ></iframe>\n",
       "        "
      ],
      "text/plain": [
       "<IPython.lib.display.IFrame at 0x7ac23860cb50>"
      ]
     },
     "execution_count": 19,
     "metadata": {},
     "output_type": "execute_result"
    }
   ],
   "source": [
    "#| echo: false\n",
    "from IPython.display import IFrame\n",
    "IFrame(\"https://app.py.cafe/snippet/solara/v1?c=H4sIADmpLGYAA51UUWvbMBD-K4e6B4embsLYGA4eHaWwQQuDlu3FkCr2JRGVJU-Sk4bg_76zJTtOt73MgVg-fffdd6c7HVmuC2QJE2WljQOuDntRbNBlKlic4cJJdDZTmcoltxZuda0cmp8dMBpc4i_q4G2TJFNAzxJtCSlkrPt1psCaa7VG5wSsjS4JsHWussn1NTnEdnudc7Xj9qpH3czjj_Gsp1jXKndCKzCoCjTREUrKQU4BJTQTOHoUAIkGEtOpJRXRBNLPHhq3ujNKnXYyNlmMPVa1c8SdQqHzukTl4twgd3gnsf0iN48Y-3lL3FXnXlgX86Lo-dFc_dNBKIXm69PDPYV77tAgLLw79qqjSfP81oeo73YkpI2D5N7GkSJ_ydg0pDgUAEK2dpztdKgJoS9hfhI1wPkOl_mWqw3a6LTdnJYep1XL2uGSgfwPCf-TKgz9QYdL_BKTseqRktGSFPGqopa43QpZRD5uv934F7523VfgmtfSwTG0EDQBNu7UZW5tOjbE5-dJ3iuev2wMWYtkJWtcQEWnI9Qmmc-qV_hAf4sQ-I1vstU7CjtmoGaX2iQbg6gWvd5xeF-09DSQ8TeqxmwSO76J7EHl6ZOpcdKOaRgyqyU3fPgUVRhUC9xCWNJMe2XE7PExtTvN1w6JO1M3wZhrIlHUdxkVbA3f-Qajfsz3wm1751st61JF1h0kpseMhYpkLMnYeypIxprerX2C1wM3L4Xetw11QbeI13b56PUzktHjz66eGMNMdimkIZF4x-kspqDV8txOYzBiCvm3RXyUgppgYCuFSq_mn2ZTKPlr2i06yr8EOLefB3ib2ppyu-gT8IztCBzPWJsuW19dNmUGf9XCdLIsXdKj25k23aFqb24fh76p-38I3LPEUR9MGRbC3Sm-kgRqLc1vN6GYrewFAAA\", width=\"100%\", height=600)"
   ]
  },
  {
   "cell_type": "markdown",
   "id": "ca1e5892-5a6f-4e75-9cf4-8d47a7bab734",
   "metadata": {},
   "source": [
    "And that's all. You can generate some other confetti animations from [here](https://www.kirilv.com/canvas-confetti/). Create your own widgets with [AnyWidget](https://anywidget.dev/) or use widgets from [Jupyter Widgets](https://ipywidgets.readthedocs.io/en/stable/) or [Solara](https://solara.dev/) itself and add them to your [Solara](https://solara.dev/) app."
   ]
  },
  {
   "cell_type": "code",
   "execution_count": null,
   "id": "0c4f639f-b008-4f59-9fb7-b3f93a38fa7e",
   "metadata": {},
   "outputs": [],
   "source": []
  }
 ],
 "metadata": {
  "kernelspec": {
   "display_name": "Python 3 (ipykernel)",
   "language": "python",
   "name": "python3"
  },
  "language_info": {
   "codemirror_mode": {
    "name": "ipython",
    "version": 3
   },
   "file_extension": ".py",
   "mimetype": "text/x-python",
   "name": "python",
   "nbconvert_exporter": "python",
   "pygments_lexer": "ipython3",
   "version": "3.10.12"
  }
 },
 "nbformat": 4,
 "nbformat_minor": 5
}
