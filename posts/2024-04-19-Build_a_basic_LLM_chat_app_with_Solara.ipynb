{
 "cells": [
  {
   "cell_type": "raw",
   "id": "d6c9b7c8-78dc-4f60-9b24-cf8c4843a102",
   "metadata": {},
   "source": [
    "---\n",
    "title: \"Build a basic LLM chat app with Solara\"\n",
    "author: \"Alonso Silva\"\n",
    "date: \"2024-04-19\"\n",
    "categories: [code, analysis]\n",
    "format:\n",
    "    html:\n",
    "        code-tools: true\n",
    "        code-fold: false\n",
    "filters:\n",
    "  - quarto\n",
    "  - line-highlight\n",
    "jupyter: python3\n",
    "---"
   ]
  },
  {
   "cell_type": "markdown",
   "id": "709063c5-c9f9-46db-bb5d-604a5c249200",
   "metadata": {},
   "source": [
    "# Build a basic LLM chat app with Solara"
   ]
  },
  {
   "cell_type": "markdown",
   "id": "5e44e1dd-b74f-4417-9d01-f00b5f722434",
   "metadata": {},
   "source": [
    "In this post, we will build a basic LLM chat app with [Solara](https://solara.dev/). Large Language Models (LLMs) have become increasingly popular and Solara provides several components to work with them. Let's dive in."
   ]
  },
  {
   "attachments": {},
   "cell_type": "markdown",
   "id": "3b8f0e0d-e4a5-4dcf-95a1-205634ca737c",
   "metadata": {},
   "source": [
    "First things first, let's install Solara.\n",
    "```shell\n",
    "$ pip install solara\n",
    "```"
   ]
  },
  {
   "cell_type": "markdown",
   "id": "d919bead-5589-46b8-953d-52ad16f5ab69",
   "metadata": {},
   "source": [
    "Now, let's start by creating an `app.py` that sends a simple message with the content \"Hello!\" as a user. To do that we use the `ChatBox` and `ChatMessage` components."
   ]
  },
  {
   "cell_type": "code",
   "execution_count": 3,
   "id": "6c2e82cc-561b-4220-96d3-67f38d9c6786",
   "metadata": {
    "execution": {
     "iopub.execute_input": "2024-04-23T14:33:39.045833Z",
     "iopub.status.busy": "2024-04-23T14:33:39.045306Z",
     "iopub.status.idle": "2024-04-23T14:33:39.452745Z",
     "shell.execute_reply": "2024-04-23T14:33:39.452303Z",
     "shell.execute_reply.started": "2024-04-23T14:33:39.045784Z"
    }
   },
   "outputs": [
    {
     "data": {
      "application/vnd.jupyter.widget-view+json": {
       "model_id": "03c03bf4587f440cab41ab999c568785",
       "version_major": 2,
       "version_minor": 0
      },
      "text/html": [
       "Cannot show widget. You probably want to rerun the code cell above (<i>Click in the code cell, and press Shift+Enter <kbd>⇧</kbd>+<kbd>↩</kbd></i>)."
      ],
      "text/plain": [
       "Cannot show ipywidgets in text"
      ]
     },
     "metadata": {},
     "output_type": "display_data"
    }
   ],
   "source": [
    "#| echo: true\n",
    "import solara\n",
    "@solara.component\n",
    "def Page():\n",
    "    with solara.lab.ChatBox():\n",
    "        with solara.lab.ChatMessage(user=True, name=\"User\"):\n",
    "            solara.Markdown(\"Hello!\")\n",
    "Page()"
   ]
  },
  {
   "cell_type": "code",
   "execution_count": 5,
   "id": "b6b4e8c1-9315-47fc-959b-e3c962940d35",
   "metadata": {
    "execution": {
     "iopub.execute_input": "2024-04-23T10:04:23.283812Z",
     "iopub.status.busy": "2024-04-23T10:04:23.283240Z",
     "iopub.status.idle": "2024-04-23T10:04:23.295266Z",
     "shell.execute_reply": "2024-04-23T10:04:23.294097Z",
     "shell.execute_reply.started": "2024-04-23T10:04:23.283759Z"
    }
   },
   "outputs": [
    {
     "data": {
      "text/html": [
       "\n",
       "        <iframe\n",
       "            width=\"100%\"\n",
       "            height=\"183\"\n",
       "            src=\"https://app.py.cafe/snippet/solara?c=H4sIAMIsImYAA3VVTW_cNhD9K4pycYCIlVZa73oLFUWDAr0EKNCPky4UxV3RS5EySe1aDvLf-4aSt06RJj6Yo5l5M-_NjL-kwnYyPaRqGK0LibeaO96Yxgjvkzpp0vjfsEvGx1ErwYOyJsuujo_JT0mnLgcT-kz0Snd3mw_fMX1pTIJ_nfKj5vMhMdbI5N0Cx034sTFfAbfCNObnpQImLDyMNKExnTwmv_OTvPtwWHKtLn-EWcs71PlhMV9V6F-_ad6yTz0Pv9jnW9j_-XyW3lP6yUtX_-km-TExfJB1k_4FS5O-jX8D_5m7c2ev5q5Jf5Na23fwTD-mTj5NyskBpXvw-j5BJ_RoDD6GeSSylwx4g9O_lbymh0CwqexU-NXwVsPpyLWHSVtxPiotP1kTkCVm7LnvD0l1fKiOcrsTeduVYsf5bl9UUuTd_qEq2v2-MT8E6wzvbHbPKtbJS5GNc5mRABk3M7v2ujHj_DI81fWmYnnyPhmABpufgtL_MXJ3smaTieNRZa0ynTInX9c7ttncXDrZTqdxruuKVf8mk8-jFOFbo7FBttae6_qebW_WKw-i7-zpO1aiAHCbghW3D2t35L2015hh1aSuS3bfGIoiAulZ4AdTzUUvg7UaybasZGVj-mngRr1IqvCB5QCUrUeQDPApNmRxkotgkbVgewpR43yZEIBqcrYhEgdCzeQzNPJYEIrM2Y4QF9-gjuClAAC5-_lkOAjO1_jHaZyDdJnQChrX9Z7dUyhEuqruJGHJEQngyWmt2hJEsE1sp-fOywBN3cA1mnDUakk5g-Mq6NjElhUVmfqiiJiQFdxwHx49SgUhA6eMxQOlNNKHjPvZCAVqC1QCZ28UdI_vSONaMDYoWyoESsmoHSLraUIOUouVBUVPFyWgFWFvIsOmPVLB6Aul5dQYWqX0FdLjOzgbIFHgaCdHWjisMKa9cUzeCyJtWExOTSLtqG0ATZkyWhnIBC-aBmS9FbuHCc4EAY5CdCqj1rhSgarrlIMfeCPjTSDr4LqFsgiWz1JgUQzmFU5Eyzg5mcnLIm2s5ioAGfrlXaCPoYOGS0n4DA2CPaMfSlHFFA6HL2Q0omcFgojViuLWyc5UwBYvdiJbCSTHbMdZQzvinHU8QM8cyiGOHGiuaAkKeFWRh9ATf3ssL1UBw1k6I1HXPSmEsOVCUQjelFk9x3GP00C1TKPnR3CBruK0zSOI-GYBKrYlZzELTWOJjuMwjLPtVCezPoRxoSVmvIm2fl8oAnInQTrHrsdhIctZXRXqu1DWAqxRS51BsSX9ykMg4aizCC8ddk_BkMOEdd7BttBBM4BWx9l55em4RszY_sIQMSnXU4jFj4s-8yHSRJ1g9zCz-XITEPISUeJRGSkIzEVJ51P8axDJWnYPx3w9Qpj4iPiI2x_xI46ZBhIZ1MbFfVTmkW_iFYvPN2uLodlRfKvsq6w4UvEUvlJKcds47U9aBYnrASGoDDtCLI9CUSYr8Md3fcSP6EDb662J9Os_uiSjkysIAAA\"\n",
       "            frameborder=\"0\"\n",
       "            allowfullscreen\n",
       "            \n",
       "        ></iframe>\n",
       "        "
      ],
      "text/plain": [
       "<IPython.lib.display.IFrame at 0x7442cf2e41f0>"
      ]
     },
     "execution_count": 5,
     "metadata": {},
     "output_type": "execute_result"
    }
   ],
   "source": [
    "#| echo: false\n",
    "from IPython.display import IFrame\n",
    "IFrame(src=\"\"\"https://app.py.cafe/snippet/solara?c=H4sIAMIsImYAA3VVTW_cNhD9K4pycYCIlVZa73oLFUWDAr0EKNCPky4UxV3RS5EySe1aDvLf-4aSt06RJj6Yo5l5M-_NjL-kwnYyPaRqGK0LibeaO96Yxgjvkzpp0vjfsEvGx1ErwYOyJsuujo_JT0mnLgcT-kz0Snd3mw_fMX1pTIJ_nfKj5vMhMdbI5N0Cx034sTFfAbfCNObnpQImLDyMNKExnTwmv_OTvPtwWHKtLn-EWcs71PlhMV9V6F-_ad6yTz0Pv9jnW9j_-XyW3lP6yUtX_-km-TExfJB1k_4FS5O-jX8D_5m7c2ev5q5Jf5Na23fwTD-mTj5NyskBpXvw-j5BJ_RoDD6GeSSylwx4g9O_lbymh0CwqexU-NXwVsPpyLWHSVtxPiotP1kTkCVm7LnvD0l1fKiOcrsTeduVYsf5bl9UUuTd_qEq2v2-MT8E6wzvbHbPKtbJS5GNc5mRABk3M7v2ujHj_DI81fWmYnnyPhmABpufgtL_MXJ3smaTieNRZa0ynTInX9c7ttncXDrZTqdxruuKVf8mk8-jFOFbo7FBttae6_qebW_WKw-i7-zpO1aiAHCbghW3D2t35L2015hh1aSuS3bfGIoiAulZ4AdTzUUvg7UaybasZGVj-mngRr1IqvCB5QCUrUeQDPApNmRxkotgkbVgewpR43yZEIBqcrYhEgdCzeQzNPJYEIrM2Y4QF9-gjuClAAC5-_lkOAjO1_jHaZyDdJnQChrX9Z7dUyhEuqruJGHJEQngyWmt2hJEsE1sp-fOywBN3cA1mnDUakk5g-Mq6NjElhUVmfqiiJiQFdxwHx49SgUhA6eMxQOlNNKHjPvZCAVqC1QCZ28UdI_vSONaMDYoWyoESsmoHSLraUIOUouVBUVPFyWgFWFvIsOmPVLB6Aul5dQYWqX0FdLjOzgbIFHgaCdHWjisMKa9cUzeCyJtWExOTSLtqG0ATZkyWhnIBC-aBmS9FbuHCc4EAY5CdCqj1rhSgarrlIMfeCPjTSDr4LqFsgiWz1JgUQzmFU5Eyzg5mcnLIm2s5ioAGfrlXaCPoYOGS0n4DA2CPaMfSlHFFA6HL2Q0omcFgojViuLWyc5UwBYvdiJbCSTHbMdZQzvinHU8QM8cyiGOHGiuaAkKeFWRh9ATf3ssL1UBw1k6I1HXPSmEsOVCUQjelFk9x3GP00C1TKPnR3CBruK0zSOI-GYBKrYlZzELTWOJjuMwjLPtVCezPoRxoSVmvIm2fl8oAnInQTrHrsdhIctZXRXqu1DWAqxRS51BsSX9ykMg4aizCC8ddk_BkMOEdd7BttBBM4BWx9l55em4RszY_sIQMSnXU4jFj4s-8yHSRJ1g9zCz-XITEPISUeJRGSkIzEVJ51P8axDJWnYPx3w9Qpj4iPiI2x_xI46ZBhIZ1MbFfVTmkW_iFYvPN2uLodlRfKvsq6w4UvEUvlJKcds47U9aBYnrASGoDDtCLI9CUSYr8Md3fcSP6EDb662J9Os_uiSjkysIAAA\"\"\",\n",
    "      width=\"100%\", height=183)"
   ]
  },
  {
   "cell_type": "markdown",
   "id": "ba1d21cb-bbea-4be3-ae3d-c9920bf8d2e4",
   "metadata": {},
   "source": [
    "You can modify the user name and/or the message as you please."
   ]
  },
  {
   "cell_type": "code",
   "execution_count": 40,
   "id": "9555f609-e0b1-4b9f-9930-c0231ef2f47f",
   "metadata": {
    "execution": {
     "iopub.execute_input": "2024-04-18T11:22:21.537294Z",
     "iopub.status.busy": "2024-04-18T11:22:21.536725Z",
     "iopub.status.idle": "2024-04-18T11:22:21.583203Z",
     "shell.execute_reply": "2024-04-18T11:22:21.582237Z",
     "shell.execute_reply.started": "2024-04-18T11:22:21.537238Z"
    }
   },
   "outputs": [
    {
     "data": {
      "application/vnd.jupyter.widget-view+json": {
       "model_id": "14e527193be84438b9ecb74f7b0fdf2f",
       "version_major": 2,
       "version_minor": 0
      },
      "text/html": [
       "Cannot show widget. You probably want to rerun the code cell above (<i>Click in the code cell, and press Shift+Enter <kbd>⇧</kbd>+<kbd>↩</kbd></i>)."
      ],
      "text/plain": [
       "Cannot show ipywidgets in text"
      ]
     },
     "metadata": {},
     "output_type": "display_data"
    }
   ],
   "source": [
    "#| echo: true\n",
    "#| source-line-numbers: \"5,6\"\n",
    "#| class-source: \"numberLines\"\n",
    "import solara\n",
    "@solara.component\n",
    "def Page():\n",
    "    with solara.lab.ChatBox():\n",
    "        with solara.lab.ChatMessage(user=True, name=\"Morpheus\"):\n",
    "            solara.Markdown(\"Wake up, Neo...\")\n",
    "Page()"
   ]
  },
  {
   "cell_type": "code",
   "execution_count": 27,
   "id": "85b4fa6c-aba1-4935-b653-d9bd650036a4",
   "metadata": {
    "execution": {
     "iopub.execute_input": "2024-04-19T09:02:28.798788Z",
     "iopub.status.busy": "2024-04-19T09:02:28.798284Z",
     "iopub.status.idle": "2024-04-19T09:02:28.808927Z",
     "shell.execute_reply": "2024-04-19T09:02:28.807956Z",
     "shell.execute_reply.started": "2024-04-19T09:02:28.798747Z"
    }
   },
   "outputs": [
    {
     "data": {
      "text/html": [
       "\n",
       "        <iframe\n",
       "            width=\"100%\"\n",
       "            height=\"183\"\n",
       "            src=\"https://app.py.cafe/snippet/solara?c=H4sIAIgvImYAA3VVTW_jNhD9K6r2kgARK9ly7LhQUXTRY4oCLdqLLpREW4wpkiEpO8pi_3vfUIo3u9jdzSEczdd7b2byKW1NJ9J9KgdrXEi8UdzxWte69T6pkjqN_zU7Z9xaJVsepNFZdnHcJr8mnTzvdeiztpequ1ndfsf0qdYJ_nXSW8WnfaKNFslPczmuwy-1_oxyS5la_zZ3wFoDDy10qHUnDslf_ChubvdzrsXl7zApcYM-b2fzRYb-7ZviDfvY8_C7ebmG_cjnUXhP6UcvXPWPG8Vdovkgqjp9NM72YvR1-j7HuxYeuTt15qJv6vQ_fhLJaO-SP4VhjCEkvUudeB6lEwNweJD8IQEsetQaH8Nkifk5Fd4g-F8pLuk-UA-p6GT4Q_NGwenAlYdJmfZ0kEp8NDogS8zYc9_vk_LwUB7EZtvmTbdut5xvd0Up2rzbPZRFs9vV-udgnOadye5ZyTpxLjI7rTNSI-N6Ypde1dpOr8NzVa1KlicfkgHVYPNjkOobI3dHo1dZezjIrJG6k_roq2rLVqurSyea8WinqipZ-SWZeLGiDV8btQmiMeZUVfdsc7VeeGj7zhy_YyUKUG5VsOL6YUFH3jO8Wg-LOFW1Zve1pigikJ4FfjDivO1FMEYh2Yat2brW_ThwLV8FdfjAchQUjUeQCPApVmRxgrfBIGvBdhQi7XQeEYBucrYiEgeqmokXaOSxLRSZsy1VnH2DPICXAgXI3U9HzUFwvsQ_jXYKwmWtktC4qnbsnkIh0kV2RwFLjkgUHp1SslmDCLaKcHruvAjQ1A1cAYQjqGvKGRyXQUUQG1aUZOqLItaErOCG-_Dk0SoIGThlLB4opRY-ZNxPupWgtkAncPZaQvf4jjQuDWOdsrlDVFkzgkNkPY_IQWqxdUHR41m20IpqryLDujlQw8CF1nICBqiUvkR6fAdnAyQKHHBypIXDUkY3V47Je65IGxaTE0iktcoE0JRJraSGTPCiaUDWa7M7mOBMJcBRiE7rqDVOVqDuOungB97IeBXIOLhuoCyCxYtosSga8wonosWOTmTiPEsbu7m0KBn6-V0Ax9BBw7klfIYGwZyAh1KUMYXDFQwZjehJgiBitaS4ZbIzGbDFs53Ili2SY7bjrAFOe8o6HqBnDuUQRw40V7QEBbzKyEPoib8dlpe6gOEknBbo654UQth8oSgEb8osX-K4x2mgXkbr-QFcAFWctsmCiK8WoGQbcm6nVtFYAnEcBjuZTnYi60OwMy0x41W05ftMESp3AqRz7HocFrKc5EWivzNlLcAaQeo0ml3TrzwEEo6QxfLCYfckDDlMWOctbDMdNAOAaifnpafjGmtG-DNDxKRYTiEWPy76xIdIEyHB7mFm8_kmIOQ1VolHxVIQmIuSTsf41yCSNe8ejvlyhDDxseITbn-sH-vocSCRQW1c3Cepn_gqXrH4fLe2GJotxTfSvMmKIxVP4RulFLeJ0_6sZBC4HhCC2jAWYnk0ijZZgb_EyyN-BAJlLlcQ6ef_AaznO6k4CAAA\n",
       "\"\n",
       "            frameborder=\"0\"\n",
       "            allowfullscreen\n",
       "            \n",
       "        ></iframe>\n",
       "        "
      ],
      "text/plain": [
       "<IPython.lib.display.IFrame at 0x7c7be6284f50>"
      ]
     },
     "execution_count": 27,
     "metadata": {},
     "output_type": "execute_result"
    }
   ],
   "source": [
    "#| echo: false\n",
    "from IPython.display import IFrame\n",
    "IFrame(src=\"\"\"https://app.py.cafe/snippet/solara?c=H4sIAIgvImYAA3VVTW_jNhD9K6r2kgARK9ly7LhQUXTRY4oCLdqLLpREW4wpkiEpO8pi_3vfUIo3u9jdzSEczdd7b2byKW1NJ9J9KgdrXEi8UdzxWte69T6pkjqN_zU7Z9xaJVsepNFZdnHcJr8mnTzvdeiztpequ1ndfsf0qdYJ_nXSW8WnfaKNFslPczmuwy-1_oxyS5la_zZ3wFoDDy10qHUnDslf_ChubvdzrsXl7zApcYM-b2fzRYb-7ZviDfvY8_C7ebmG_cjnUXhP6UcvXPWPG8Vdovkgqjp9NM72YvR1-j7HuxYeuTt15qJv6vQ_fhLJaO-SP4VhjCEkvUudeB6lEwNweJD8IQEsetQaH8Nkifk5Fd4g-F8pLuk-UA-p6GT4Q_NGwenAlYdJmfZ0kEp8NDogS8zYc9_vk_LwUB7EZtvmTbdut5xvd0Up2rzbPZRFs9vV-udgnOadye5ZyTpxLjI7rTNSI-N6Ypde1dpOr8NzVa1KlicfkgHVYPNjkOobI3dHo1dZezjIrJG6k_roq2rLVqurSyea8WinqipZ-SWZeLGiDV8btQmiMeZUVfdsc7VeeGj7zhy_YyUKUG5VsOL6YUFH3jO8Wg-LOFW1Zve1pigikJ4FfjDivO1FMEYh2Yat2brW_ThwLV8FdfjAchQUjUeQCPApVmRxgrfBIGvBdhQi7XQeEYBucrYiEgeqmokXaOSxLRSZsy1VnH2DPICXAgXI3U9HzUFwvsQ_jXYKwmWtktC4qnbsnkIh0kV2RwFLjkgUHp1SslmDCLaKcHruvAjQ1A1cAYQjqGvKGRyXQUUQG1aUZOqLItaErOCG-_Dk0SoIGThlLB4opRY-ZNxPupWgtkAncPZaQvf4jjQuDWOdsrlDVFkzgkNkPY_IQWqxdUHR41m20IpqryLDujlQw8CF1nICBqiUvkR6fAdnAyQKHHBypIXDUkY3V47Je65IGxaTE0iktcoE0JRJraSGTPCiaUDWa7M7mOBMJcBRiE7rqDVOVqDuOungB97IeBXIOLhuoCyCxYtosSga8wonosWOTmTiPEsbu7m0KBn6-V0Ax9BBw7klfIYGwZyAh1KUMYXDFQwZjehJgiBitaS4ZbIzGbDFs53Ili2SY7bjrAFOe8o6HqBnDuUQRw40V7QEBbzKyEPoib8dlpe6gOEknBbo654UQth8oSgEb8osX-K4x2mgXkbr-QFcAFWctsmCiK8WoGQbcm6nVtFYAnEcBjuZTnYi60OwMy0x41W05ftMESp3AqRz7HocFrKc5EWivzNlLcAaQeo0ml3TrzwEEo6QxfLCYfckDDlMWOctbDMdNAOAaifnpafjGmtG-DNDxKRYTiEWPy76xIdIEyHB7mFm8_kmIOQ1VolHxVIQmIuSTsf41yCSNe8ejvlyhDDxseITbn-sH-vocSCRQW1c3Cepn_gqXrH4fLe2GJotxTfSvMmKIxVP4RulFLeJ0_6sZBC4HhCC2jAWYnk0ijZZgb_EyyN-BAJlLlcQ6ef_AaznO6k4CAAA\n",
    "\"\"\", width=\"100%\", height=183)"
   ]
  },
  {
   "cell_type": "markdown",
   "id": "354e4d0a-58b5-40d6-829e-1addb03a655d",
   "metadata": {},
   "source": [
    "You can also send a message as an assistant."
   ]
  },
  {
   "cell_type": "code",
   "execution_count": 41,
   "id": "a6117431-7278-4439-a396-e4334fb3661f",
   "metadata": {
    "execution": {
     "iopub.execute_input": "2024-04-18T11:25:02.049534Z",
     "iopub.status.busy": "2024-04-18T11:25:02.049091Z",
     "iopub.status.idle": "2024-04-18T11:25:02.083756Z",
     "shell.execute_reply": "2024-04-18T11:25:02.083337Z",
     "shell.execute_reply.started": "2024-04-18T11:25:02.049493Z"
    }
   },
   "outputs": [
    {
     "data": {
      "application/vnd.jupyter.widget-view+json": {
       "model_id": "d741b429f4e941a799e82c401771ed64",
       "version_major": 2,
       "version_minor": 0
      },
      "text/html": [
       "Cannot show widget. You probably want to rerun the code cell above (<i>Click in the code cell, and press Shift+Enter <kbd>⇧</kbd>+<kbd>↩</kbd></i>)."
      ],
      "text/plain": [
       "Cannot show ipywidgets in text"
      ]
     },
     "metadata": {},
     "output_type": "display_data"
    }
   ],
   "source": [
    "#| echo: true\n",
    "#| source-line-numbers: \"5,6\"\n",
    "#| class-source: \"numberLines\"\n",
    "import solara\n",
    "@solara.component\n",
    "def Page():\n",
    "    with solara.lab.ChatBox():\n",
    "        with solara.lab.ChatMessage(user=False, name=\"Assistant\",):\n",
    "            solara.Markdown(\"Hello! How can I assist you today?\")\n",
    "Page()"
   ]
  },
  {
   "cell_type": "code",
   "execution_count": 26,
   "id": "7a1ab415-55e7-4268-879d-8cc1a08635d7",
   "metadata": {
    "execution": {
     "iopub.execute_input": "2024-04-19T09:02:12.219138Z",
     "iopub.status.busy": "2024-04-19T09:02:12.218636Z",
     "iopub.status.idle": "2024-04-19T09:02:12.229183Z",
     "shell.execute_reply": "2024-04-19T09:02:12.228147Z",
     "shell.execute_reply.started": "2024-04-19T09:02:12.219096Z"
    }
   },
   "outputs": [
    {
     "data": {
      "text/html": [
       "\n",
       "        <iframe\n",
       "            width=\"100%\"\n",
       "            height=\"183\"\n",
       "            src=\"https://app.py.cafe/snippet/solara?c=H4sIAKcwImYAA3VVXW_bNhT9K6r6kgARJ9ly7HjQvooN3UOBAQP2pBeKoi3GFKmQlB2l6H_fuZTipUPb5iG8ul_nnHtvPqfCtjLdp6ofrAuJt5o7XpvaCO-TKqnT-N-wc8aHQSvBg7Imyy6OD8lPSavOexO6THRKtzer22-YPtcmwb9W-UHzaZ8Ya2Tybi7HTfixNl9QbilTm1_mDpiw8DDShNq08pD8xY_y5nY_51pc_g6Tljfo83Y2X1ToXr9p3rAPHQ-_2edr2Pd8PknvKf3opav-4NrLu8TwXlZ1-qv3ylObdfo2y5smPnF3au3F3NTpR6m1fZd8tJdEcJP8mfAYnUx2TIJt-fQzsqR3qZNPo3KyBzgP5t8nwEqP2uBjmAaSY86ON1j_R8lLug9ulHepbFX43fBGw-kQW021FaeD0vKDNQFZYsaO-26flIeH8iA3W5E37VpsOd_uilKKvN09lEWz29Xmh2Cd4a3N7lnJWnkusmFaZyRRxs3ELp2uzTC99E9VtSpZnrxPelSDzY9B6f8ZuTtas8rE4aCyRplWmaOvqi1bra4urWzG4zBVVcnK_5LJ50GK8LXR2CAba09Vdc82V-uFB9G19vgNK1GAcquCFdcPCzrynuHVpl_0qqo1u68NRRGB9Czwg7nnopPBWo1kG7Zm69p0Y8-NepHU4QPLUVA2HkEywKdYkcVJLoJF1oLtKEQN03lEALrJ2YpI7KlqJp-hkccKUWTOtlRx9g3qAF4KFCB3Px0NB8H5Ev84DlOQLhNaQeOq2rF7CoVIF9UeJSw5IlF4dFqrZg0i2CrC6bjzMkBT13MNEI6grilncFwFHUFsWFGSqSuKWBOyghvuw6NHqyCk55SxeKCURvqQcT8ZoUBtgU7g7I2C7vEdaVwaxo5lc4eosmYEh8h6GpGD1GLrgqLHsxLQimqvIsOmOVDDwIXWcgIGqJS-RHp8B2c9JAoccHKkhcNSxjRXjsl7rkgbFpMTSKQdtA2gKVNGKwOZ4EXTgKzXZncwwZlKgKMQndZRa9yxQN21ysEPvJHxKpB1cN1AWQTLZymwKAbzCieiZRidzOR5ljZ2cxEoGbr5XQBH30LDuSV8hgbBnoCHUpQxhcNpDBmN6EmBIGK1pLhlsjMVsMWznchWAskx23HWAEecspYH6JlDOcSRA80VLUEBrzLyEDrib4flpS5gOElnJPq6J4UQNl8oCsGbMqvnOO5xGqiXcfD8AC6AKk7bNICIrxagZBtyFpPQNJZAHIdhmGyrWpl1IQwzLTHjVbTl-0wRKrcSpHPsehwWspzURaG_M2UtwBpBag2aXdOvPAQSjpDF8tJh9xQMOUxY5y1sMx00A4A6TI4OeVw81IzwZ4aISbmcQix-XPSJ95EmQoLdw8zm801AyEusEo_KQEFgLko6HeNfg0jWvHs45ssRwsTHio-4_bF-rGPGnkQGtXFxH5V55Kt4xeLzzdpiaLYU3yj7KiuOVDyFr5RS3CZO-5NWQeJ6QAhqww4Qy6NRtMkK_HleHvEjEGh7uYJIv_wLQdpSLU0IAAA\n",
       "\"\n",
       "            frameborder=\"0\"\n",
       "            allowfullscreen\n",
       "            \n",
       "        ></iframe>\n",
       "        "
      ],
      "text/plain": [
       "<IPython.lib.display.IFrame at 0x7c7be6277650>"
      ]
     },
     "execution_count": 26,
     "metadata": {},
     "output_type": "execute_result"
    }
   ],
   "source": [
    "#| echo: false\n",
    "from IPython.display import IFrame\n",
    "IFrame(src=\"\"\"https://app.py.cafe/snippet/solara?c=H4sIAKcwImYAA3VVXW_bNhT9K6r6kgARJ9ly7HjQvooN3UOBAQP2pBeKoi3GFKmQlB2l6H_fuZTipUPb5iG8ul_nnHtvPqfCtjLdp6ofrAuJt5o7XpvaCO-TKqnT-N-wc8aHQSvBg7Imyy6OD8lPSavOexO6THRKtzer22-YPtcmwb9W-UHzaZ8Ya2Tybi7HTfixNl9QbilTm1_mDpiw8DDShNq08pD8xY_y5nY_51pc_g6Tljfo83Y2X1ToXr9p3rAPHQ-_2edr2Pd8PknvKf3opav-4NrLu8TwXlZ1-qv3ylObdfo2y5smPnF3au3F3NTpR6m1fZd8tJdEcJP8mfAYnUx2TIJt-fQzsqR3qZNPo3KyBzgP5t8nwEqP2uBjmAaSY86ON1j_R8lLug9ulHepbFX43fBGw-kQW021FaeD0vKDNQFZYsaO-26flIeH8iA3W5E37VpsOd_uilKKvN09lEWz29Xmh2Cd4a3N7lnJWnkusmFaZyRRxs3ELp2uzTC99E9VtSpZnrxPelSDzY9B6f8ZuTtas8rE4aCyRplWmaOvqi1bra4urWzG4zBVVcnK_5LJ50GK8LXR2CAba09Vdc82V-uFB9G19vgNK1GAcquCFdcPCzrynuHVpl_0qqo1u68NRRGB9Czwg7nnopPBWo1kG7Zm69p0Y8-NepHU4QPLUVA2HkEywKdYkcVJLoJF1oLtKEQN03lEALrJ2YpI7KlqJp-hkccKUWTOtlRx9g3qAF4KFCB3Px0NB8H5Ev84DlOQLhNaQeOq2rF7CoVIF9UeJSw5IlF4dFqrZg0i2CrC6bjzMkBT13MNEI6grilncFwFHUFsWFGSqSuKWBOyghvuw6NHqyCk55SxeKCURvqQcT8ZoUBtgU7g7I2C7vEdaVwaxo5lc4eosmYEh8h6GpGD1GLrgqLHsxLQimqvIsOmOVDDwIXWcgIGqJS-RHp8B2c9JAoccHKkhcNSxjRXjsl7rkgbFpMTSKQdtA2gKVNGKwOZ4EXTgKzXZncwwZlKgKMQndZRa9yxQN21ysEPvJHxKpB1cN1AWQTLZymwKAbzCieiZRidzOR5ljZ2cxEoGbr5XQBH30LDuSV8hgbBnoCHUpQxhcNpDBmN6EmBIGK1pLhlsjMVsMWznchWAskx23HWAEecspYH6JlDOcSRA80VLUEBrzLyEDrib4flpS5gOElnJPq6J4UQNl8oCsGbMqvnOO5xGqiXcfD8AC6AKk7bNICIrxagZBtyFpPQNJZAHIdhmGyrWpl1IQwzLTHjVbTl-0wRKrcSpHPsehwWspzURaG_M2UtwBpBag2aXdOvPAQSjpDF8tJh9xQMOUxY5y1sMx00A4A6TI4OeVw81IzwZ4aISbmcQix-XPSJ95EmQoLdw8zm801AyEusEo_KQEFgLko6HeNfg0jWvHs45ssRwsTHio-4_bF-rGPGnkQGtXFxH5V55Kt4xeLzzdpiaLYU3yj7KiuOVDyFr5RS3CZO-5NWQeJ6QAhqww4Qy6NRtMkK_HleHvEjEGh7uYJIv_wLQdpSLU0IAAA\n",
    "\"\"\", width=\"100%\", height=183)"
   ]
  },
  {
   "cell_type": "markdown",
   "id": "e5d405a8-85cc-46d3-a2fa-9c100777daf7",
   "metadata": {},
   "source": [
    "To have a conversation, we create a reactive variable `messages` where we will store the messages. To do that we create a list of dictionaries where we will save the roles (for example, `user` and `assistant`) and the messages contents."
   ]
  },
  {
   "cell_type": "code",
   "execution_count": 4,
   "id": "82699c7d-e322-4633-a17f-5aa9d05942e1",
   "metadata": {
    "execution": {
     "iopub.execute_input": "2024-04-18T10:20:40.162031Z",
     "iopub.status.busy": "2024-04-18T10:20:40.161855Z",
     "iopub.status.idle": "2024-04-18T10:20:40.166535Z",
     "shell.execute_reply": "2024-04-18T10:20:40.165651Z",
     "shell.execute_reply.started": "2024-04-18T10:20:40.162014Z"
    }
   },
   "outputs": [],
   "source": [
    "#| echo: true\n",
    "import solara\n",
    "from typing import List\n",
    "from typing_extensions import TypedDict\n",
    "\n",
    "class MessageDict(TypedDict):\n",
    "    role: str\n",
    "    content: str\n",
    "\n",
    "messages: solara.Reactive[List[MessageDict]] = solara.reactive([])"
   ]
  },
  {
   "cell_type": "markdown",
   "id": "a840b627-11a6-4722-9f9a-36eb91b21aea",
   "metadata": {},
   "source": [
    "We can generate a conversation by adding messages to the reactive variable `messages` that we previously created and displaying each message one by one."
   ]
  },
  {
   "cell_type": "code",
   "execution_count": 38,
   "id": "232e99fb-1bcb-4c11-ad67-1722a35f6cd9",
   "metadata": {
    "execution": {
     "iopub.execute_input": "2024-04-18T11:20:46.432670Z",
     "iopub.status.busy": "2024-04-18T11:20:46.432231Z",
     "iopub.status.idle": "2024-04-18T11:20:46.562088Z",
     "shell.execute_reply": "2024-04-18T11:20:46.561538Z",
     "shell.execute_reply.started": "2024-04-18T11:20:46.432630Z"
    }
   },
   "outputs": [
    {
     "data": {
      "application/vnd.jupyter.widget-view+json": {
       "model_id": "aa31ff2e2bb246dca697069556345d05",
       "version_major": 2,
       "version_minor": 0
      },
      "text/html": [
       "Cannot show widget. You probably want to rerun the code cell above (<i>Click in the code cell, and press Shift+Enter <kbd>⇧</kbd>+<kbd>↩</kbd></i>)."
      ],
      "text/plain": [
       "Cannot show ipywidgets in text"
      ]
     },
     "metadata": {},
     "output_type": "display_data"
    }
   ],
   "source": [
    "#| echo: true\n",
    "#| source-line-numbers: \"3-6,8,10,11,13\"\n",
    "#| class-source: \"numberLines\"\n",
    "@solara.component\n",
    "def Page():\n",
    "    messages.value = [\n",
    "        {\"role\": \"user\", \"content\": \"Hello!\"}, \n",
    "        {\"role\": \"assistant\",  \"content\": \"Hello! How can I assist you today?\"},\n",
    "    ]\n",
    "    with solara.lab.ChatBox():\n",
    "        for item in messages.value:\n",
    "            with solara.lab.ChatMessage(\n",
    "                user=item[\"role\"] == \"user\",\n",
    "                name=\"User\" if item[\"role\"] == \"user\" else \"Assistant\"\n",
    "            ):\n",
    "                solara.Markdown(item[\"content\"])\n",
    "Page()"
   ]
  },
  {
   "cell_type": "code",
   "execution_count": 18,
   "id": "310141e6-1f4c-4da7-9db0-59f54dfd442f",
   "metadata": {
    "execution": {
     "iopub.execute_input": "2024-04-19T09:00:28.691601Z",
     "iopub.status.busy": "2024-04-19T09:00:28.691091Z",
     "iopub.status.idle": "2024-04-19T09:00:28.702105Z",
     "shell.execute_reply": "2024-04-19T09:00:28.700939Z",
     "shell.execute_reply.started": "2024-04-19T09:00:28.691558Z"
    }
   },
   "outputs": [
    {
     "data": {
      "text/html": [
       "\n",
       "        <iframe\n",
       "            width=\"100%\"\n",
       "            height=\"250\"\n",
       "            src=\"https://app.py.cafe/snippet/solara/v1?c=H4sIAMwxImYAA3VWa2_bNhT9K6r6xQUqTbLl2PGgvboBHbACw15fomCgJdpiTJEKSdlRi_73nUvKTtKlSgCbl_d1zn3In-JaNzzexKLrtXGR1ZIZVqmd0V3kxl6ofTRd_Sase3bxL39wXFmhlT3r_DX2vPlZ1FCsVC2ZtdEHbi3bcxLOLtdvNpWK8Bgt-SayzoRjrRU8uklSqS7YWgh8XukfnNVOHPkNJXPzxPXtbVSelcykNLu5fePzQBZlVMX-T6XHhPW9FDVzyDxJTob10XdRI44b5dqkboVsZvM3L4g-hSQbYXvJxk2ktOLRq4CcKfdtpT4j3BSmUj9M6dQaGgqwKtXwXfQ7Mp6d8U8qf7pR8hnyRL4kPuNOj0wOHMnfBDk9n6qYWKviDSANlpsqfotvE3VB_J5LqV9V8WfcvGyIyoBBZE3WL5tH7_UpqpmKfo2CdjTqIXK6YeP35Dp4vg0fJ-HaMxrJtum7lrmf9MMFKD07bSLheBcJ9QXCJ0pfczbVevZckx7ioCS_N2eA6AWq90TO_y0U63hZxX_7-0jsfFYvW0dcWo7Tj498Pff3FOD5mVL_wMyh0Sc1m9xfOKa2DG0Qv40Nvx-E4R1uLObwNYago0OlcIlBo-EMDnFG5_4j-CneODPwtzFvhPtFsa2EUpBIXR92QvJ3IZZ32DLbbqJid13s-HJVZ9tmUa8YW63zgtdZs74u8u16XalvnDaKNTq5Sou04cc86cdFQl2eMDWmp1ZWqh8_dvdlOS_SLHoddYgGmR2ckF8ImdlrNU_q3U4kW6Ea7Atblqt0Pr-oNHw77PuxLIu0eHTGH3peu-dCpR3fan0oy6t0eZGemKvbRu9fkBIFCDfP0_xyMaEj7QAP-2WqUFku0ivsNlgRgXTM8Y_VweqWO60lnC3TRbqoVDt0TImPnDK8TjME5FsLI-6gk89J4heQhtc8XZOJ6MfjAANkk6VzIrGjqMnj_sRdlq4oYtB1YgdecgQgdTvuFQPB2WR_N_Sj4yappUCNy3KdXpEpinQSzZ5DksESgQcjpdguQEQ693BaZix3qKnpmAQIQ1AX5NMZJpz0IJZpXpCozXMfE2UFN8y6O4tUQUjHyGN-TS4Vty5hdlS1ALU5MoGyVQJ192dP45QwZjkJGSLKIiU4RNb9AB9UrXSRk_VwFDVqRbHnnmG1xeroGHAhtYyAASq5L-Ae9-CsQ4kcA5wMbqEwhVHbC8ekHSLSgHnnBBJue6kdaEqEkkKhTNCiboDXS7JriKBMIcCR80oLX2u8Chxl1wgDPfBGwkuBtIHqEpWFMX_gNQZFoV-hRLT0g-EJxwa8ZHOqEdK14ZwDR9eghiElXKMGTh-Ah1wU3gVex71LqEUPAgQRqwXZTZ2dCIcpDnIiW9Rwjt72vQY49SFpmEM9M1QOdqRAfUVDkEOr8Dy4lvhbY3gpCwgO3CiOvK6oQjALC4pMcCbP4sG3u-8GymXoLduBC6Dy3eZ_QDwbgCJdknI91pLaEoh9M_SjbkTDk9a5PtDiPV6KNt0HihC54SCdYdZ9s5DkIE4C-R3Jaw7WCFKjkOyCvjLnqHCEzIfnBrMnIMggwjiv6HeMp4N6AFD70dCrwA8eYnr4gSFikk-rEIPvB31knaeJkGD20LNZ2Akw-eij-KXSkxGY8yUd9_5l4MkKs4dlPi0hdLyPeIfV7-P7OGroqMig1g_unVB3bO63mD8-GVs0zYrst0Kfy4ol5VfhmVKyW_puv5d4c2F7oBCUhu5RLItEkWaa4xfOdPCXQCD16QIi_vwfDp85uloKAAA\n",
       "\"\n",
       "            frameborder=\"0\"\n",
       "            allowfullscreen\n",
       "            \n",
       "        ></iframe>\n",
       "        "
      ],
      "text/plain": [
       "<IPython.lib.display.IFrame at 0x7c7be6275690>"
      ]
     },
     "execution_count": 18,
     "metadata": {},
     "output_type": "execute_result"
    }
   ],
   "source": [
    "#| echo: false\n",
    "from IPython.display import IFrame\n",
    "IFrame(src=\"\"\"https://app.py.cafe/snippet/solara/v1?c=H4sIAMwxImYAA3VWa2_bNhT9K6r6xQUqTbLl2PGgvboBHbACw15fomCgJdpiTJEKSdlRi_73nUvKTtKlSgCbl_d1zn3In-JaNzzexKLrtXGR1ZIZVqmd0V3kxl6ofTRd_Sase3bxL39wXFmhlT3r_DX2vPlZ1FCsVC2ZtdEHbi3bcxLOLtdvNpWK8Bgt-SayzoRjrRU8uklSqS7YWgh8XukfnNVOHPkNJXPzxPXtbVSelcykNLu5fePzQBZlVMX-T6XHhPW9FDVzyDxJTob10XdRI44b5dqkboVsZvM3L4g-hSQbYXvJxk2ktOLRq4CcKfdtpT4j3BSmUj9M6dQaGgqwKtXwXfQ7Mp6d8U8qf7pR8hnyRL4kPuNOj0wOHMnfBDk9n6qYWKviDSANlpsqfotvE3VB_J5LqV9V8WfcvGyIyoBBZE3WL5tH7_UpqpmKfo2CdjTqIXK6YeP35Dp4vg0fJ-HaMxrJtum7lrmf9MMFKD07bSLheBcJ9QXCJ0pfczbVevZckx7ioCS_N2eA6AWq90TO_y0U63hZxX_7-0jsfFYvW0dcWo7Tj498Pff3FOD5mVL_wMyh0Sc1m9xfOKa2DG0Qv40Nvx-E4R1uLObwNYago0OlcIlBo-EMDnFG5_4j-CneODPwtzFvhPtFsa2EUpBIXR92QvJ3IZZ32DLbbqJid13s-HJVZ9tmUa8YW63zgtdZs74u8u16XalvnDaKNTq5Sou04cc86cdFQl2eMDWmp1ZWqh8_dvdlOS_SLHoddYgGmR2ckF8ImdlrNU_q3U4kW6Ea7Atblqt0Pr-oNHw77PuxLIu0eHTGH3peu-dCpR3fan0oy6t0eZGemKvbRu9fkBIFCDfP0_xyMaEj7QAP-2WqUFku0ivsNlgRgXTM8Y_VweqWO60lnC3TRbqoVDt0TImPnDK8TjME5FsLI-6gk89J4heQhtc8XZOJ6MfjAANkk6VzIrGjqMnj_sRdlq4oYtB1YgdecgQgdTvuFQPB2WR_N_Sj4yappUCNy3KdXpEpinQSzZ5DksESgQcjpdguQEQ693BaZix3qKnpmAQIQ1AX5NMZJpz0IJZpXpCozXMfE2UFN8y6O4tUQUjHyGN-TS4Vty5hdlS1ALU5MoGyVQJ192dP45QwZjkJGSLKIiU4RNb9AB9UrXSRk_VwFDVqRbHnnmG1xeroGHAhtYyAASq5L-Ae9-CsQ4kcA5wMbqEwhVHbC8ekHSLSgHnnBBJue6kdaEqEkkKhTNCiboDXS7JriKBMIcCR80oLX2u8Chxl1wgDPfBGwkuBtIHqEpWFMX_gNQZFoV-hRLT0g-EJxwa8ZHOqEdK14ZwDR9eghiElXKMGTh-Ah1wU3gVex71LqEUPAgQRqwXZTZ2dCIcpDnIiW9Rwjt72vQY49SFpmEM9M1QOdqRAfUVDkEOr8Dy4lvhbY3gpCwgO3CiOvK6oQjALC4pMcCbP4sG3u-8GymXoLduBC6Dy3eZ_QDwbgCJdknI91pLaEoh9M_SjbkTDk9a5PtDiPV6KNt0HihC54SCdYdZ9s5DkIE4C-R3Jaw7WCFKjkOyCvjLnqHCEzIfnBrMnIMggwjiv6HeMp4N6AFD70dCrwA8eYnr4gSFikk-rEIPvB31knaeJkGD20LNZ2Akw-eij-KXSkxGY8yUd9_5l4MkKs4dlPi0hdLyPeIfV7-P7OGroqMig1g_unVB3bO63mD8-GVs0zYrst0Kfy4ol5VfhmVKyW_puv5d4c2F7oBCUhu5RLItEkWaa4xfOdPCXQCD16QIi_vwfDp85uloKAAA\n",
    "\"\"\", width=\"100%\", height=250)"
   ]
  },
  {
   "cell_type": "markdown",
   "id": "6a5fa412-ec73-4417-8cc3-cd6b6291b384",
   "metadata": {},
   "source": [
    "Let's now add the possibility to receive messages from the user by adding the `ChatInput` component and a `send` function that adds the message to the conversation."
   ]
  },
  {
   "cell_type": "code",
   "execution_count": 42,
   "id": "de3b1759-a776-4909-b6ea-f56250f74654",
   "metadata": {
    "execution": {
     "iopub.execute_input": "2024-04-18T12:59:53.789486Z",
     "iopub.status.busy": "2024-04-18T12:59:53.789021Z",
     "iopub.status.idle": "2024-04-18T12:59:53.823015Z",
     "shell.execute_reply": "2024-04-18T12:59:53.822057Z",
     "shell.execute_reply.started": "2024-04-18T12:59:53.789439Z"
    }
   },
   "outputs": [
    {
     "data": {
      "application/vnd.jupyter.widget-view+json": {
       "model_id": "e767570fa47a4e23a6c93a87b30cb2df",
       "version_major": 2,
       "version_minor": 0
      },
      "text/html": [
       "Cannot show widget. You probably want to rerun the code cell above (<i>Click in the code cell, and press Shift+Enter <kbd>⇧</kbd>+<kbd>↩</kbd></i>)."
      ],
      "text/plain": [
       "Cannot show ipywidgets in text"
      ]
     },
     "metadata": {},
     "output_type": "display_data"
    }
   ],
   "source": [
    "#| echo: true\n",
    "#| source-line-numbers: \"4,5,13\"\n",
    "#| class-source: \"numberLines\"\n",
    "messages: solara.Reactive[List[MessageDict]] = solara.reactive([])\n",
    "@solara.component\n",
    "def Page():\n",
    "    def send(message):\n",
    "        messages.value = [*messages.value, {\"role\": \"user\", \"content\": message}]\n",
    "    with solara.lab.ChatBox():\n",
    "        for item in messages.value:\n",
    "            with solara.lab.ChatMessage(\n",
    "                user=item[\"role\"] == \"user\",\n",
    "                name=\"User\" if item[\"role\"] == \"user\" else \"Assistant\"\n",
    "            ):\n",
    "                solara.Markdown(item[\"content\"])\n",
    "    solara.lab.ChatInput(send_callback=send)\n",
    "Page()"
   ]
  },
  {
   "cell_type": "markdown",
   "id": "7429d025-9a78-4101-bef6-c7308a7b6ae1",
   "metadata": {},
   "source": [
    "Try it out by sending a message."
   ]
  },
  {
   "cell_type": "code",
   "execution_count": 30,
   "id": "e9e65a59-c908-4fd5-a84a-f3d07f5c61b9",
   "metadata": {
    "execution": {
     "iopub.execute_input": "2024-04-19T09:06:32.022598Z",
     "iopub.status.busy": "2024-04-19T09:06:32.022096Z",
     "iopub.status.idle": "2024-04-19T09:06:32.032637Z",
     "shell.execute_reply": "2024-04-19T09:06:32.031660Z",
     "shell.execute_reply.started": "2024-04-19T09:06:32.022558Z"
    }
   },
   "outputs": [
    {
     "data": {
      "text/html": [
       "\n",
       "        <iframe\n",
       "            width=\"100%\"\n",
       "            height=\"183\"\n",
       "            src=\"https://app.py.cafe/snippet/solara?c=H4sIAPkyImYAA3VW227jNhD9FVX74i0i1bLl2HGhou22DwW6QNHbSxQsKIq2GFOkQlJ2tIv8e89QsjfZZpU8mMO5nDlzkT7F3NQi3say7Yz1kTOKWVbqnTVt5IdO6n00Xf0unX9x8UE8eqGdNNqddf4eOlH_IjkUS80Vcy56L5xje0HC2eX67bbUER5rlNhGztvxyI2GRz9JSt2Otg6CgCv9UzDu5VHcEpjbZ67v7qLirGQnpdnt3duAAyiKqIzDn06PCes6JTnzQJ4kJ8u66Ieolset9k3CG6nq2eLtK6JPI8hauk6xYRtpo0X0zZg50_77Uj8h3BSm1D9OcLiBhkZapa7FLvoDiGfn_CeVv_ygxAw4gTeEgJ4Tup5NBJzV6Tlzkh6Z6gUSu_32pegq-lTGRGwZb5F174Qt4yv8mtgl8WTxdDf6PUnfnLEoVqXvGuZ_No8XmPTsjI2kF20k9RcYnil9zdlUqdlLTXoIXkF-b8-gUUmq1oT7_xaataIo43_CfSR3AdXr1pFQTuD0k3PoF9SIKvPc1_MEz88E_T2zh9qc9Gxyf2GPmuqZ3jnF33TX-xlV7QNnSlWMHwo6QXsseXwVW_HQSyta-HGYuTdo-JYOpcYlhooGcXSLM7r0XylO8dZbFDUWtfS_alYpKO0Y8rqKleGHnVTi3QgteGyYa7ZRvrvJd2K15vOqXvI1Y-tNlgs-rzc3eVZtNqX-zhurWW2S6zRPa3HMkm5YJtTSCdNDempUqbvhY_tQFIs8nUdvohbRIHO9l-oLIbN7oxcJ3-1kUkldYzm4olini8VFpRZVv--GosjT_LMz8dgJ7l8KtfGiMuZQFNfp6iI9Mc-b2uxfkRIFCLfI0uxyMWVH2mN6WCZTQYtimV5jkcGKCKRjhn_sCcYb4Y1RcLZKl-my1E3fMi0_CkJ4k84RUFQORsJDJ1uQJGwbA69ZuiET2Q3HHgZAM08XRGJLUZPPyxJ383RNEUddL3fgJUMAUnfDXjMQPJ_s7_tu8MImXEnUuCg26TWZokgnWe8FJHNYInBvlZLVEkSki5BOw6wTHjW1LVNIwlKqS_LpLZNehSRWaZaTqMmyEBNlBTfM-XsHqCCkZeQxuyGXWjifMDdoLkFtBiRQdlqi7uEcaJwAYy6SESGiLFNKh8h66OGDqpUuM7Luj5KjVhR7ERjWFTZNy5AXoM0pMaRK7nO4xz04a1Eiz5DOHG6hMIXR1YVj0h4j0oQF55Qk3HbKeNCUSK2kRpmgRd0ArxewG4igTCHAkQ9Ky1Br7H1P6GppoQfeSHgpkLFQXaGyMBaPgmNQNPoVSkRL11uRCCzMC5oTR0jfjOcMebQ1ajhCwjVq4M0B-ZCLPLjAu7fzCbXoQYIgYjUnu6mzE-kxxaOcyJYcztHbodeQDj8kNfOo5xyVgx0pUF_REGTQygMPviH-NhheQgHBQVgtgOuaKgSzcUORCc7kWT6Gdg_dQFj6zrEduEBWodvC18KLAcjTFSnzgStqS2QcmqEbTC1rkTTedyMtweOlaNP9SBEi1wKkM8x6aBaSHORJAt-RvGZgjVKqNcAu6SfzngpHmYXwwmL2JARziDDOa_poCXRQDyDVbrD05giDh5gh_ZEhYlJMqxCDHwZ9YG2giTLB7KFn5-NOgMnHECUslY6MwFwo6bAPb4NA1jh7WObTEkLHh4j32P0hfoij-5aKDGrD4N5Lfc8WYYuF47OxRdOsyb6S5lxWLKmwCs-Ukt0qdPuDwosO2wOFIBimQ7EcgAJmmuFzZjqES2SgzOmSRPz0H1juXghHCgAA\n",
       "\"\n",
       "            frameborder=\"0\"\n",
       "            allowfullscreen\n",
       "            \n",
       "        ></iframe>\n",
       "        "
      ],
      "text/plain": [
       "<IPython.lib.display.IFrame at 0x7c7c00107f50>"
      ]
     },
     "execution_count": 30,
     "metadata": {},
     "output_type": "execute_result"
    }
   ],
   "source": [
    "#| echo: false\n",
    "from IPython.display import IFrame\n",
    "IFrame(src=\"\"\"https://app.py.cafe/snippet/solara?c=H4sIAPkyImYAA3VW227jNhD9FVX74i0i1bLl2HGhou22DwW6QNHbSxQsKIq2GFOkQlJ2tIv8e89QsjfZZpU8mMO5nDlzkT7F3NQi3say7Yz1kTOKWVbqnTVt5IdO6n00Xf0unX9x8UE8eqGdNNqddf4eOlH_IjkUS80Vcy56L5xje0HC2eX67bbUER5rlNhGztvxyI2GRz9JSt2Otg6CgCv9UzDu5VHcEpjbZ67v7qLirGQnpdnt3duAAyiKqIzDn06PCes6JTnzQJ4kJ8u66Ieolset9k3CG6nq2eLtK6JPI8hauk6xYRtpo0X0zZg50_77Uj8h3BSm1D9OcLiBhkZapa7FLvoDiGfn_CeVv_ygxAw4gTeEgJ4Tup5NBJzV6Tlzkh6Z6gUSu_32pegq-lTGRGwZb5F174Qt4yv8mtgl8WTxdDf6PUnfnLEoVqXvGuZ_No8XmPTsjI2kF20k9RcYnil9zdlUqdlLTXoIXkF-b8-gUUmq1oT7_xaataIo43_CfSR3AdXr1pFQTuD0k3PoF9SIKvPc1_MEz88E_T2zh9qc9Gxyf2GPmuqZ3jnF33TX-xlV7QNnSlWMHwo6QXsseXwVW_HQSyta-HGYuTdo-JYOpcYlhooGcXSLM7r0XylO8dZbFDUWtfS_alYpKO0Y8rqKleGHnVTi3QgteGyYa7ZRvrvJd2K15vOqXvI1Y-tNlgs-rzc3eVZtNqX-zhurWW2S6zRPa3HMkm5YJtTSCdNDempUqbvhY_tQFIs8nUdvohbRIHO9l-oLIbN7oxcJ3-1kUkldYzm4olini8VFpRZVv--GosjT_LMz8dgJ7l8KtfGiMuZQFNfp6iI9Mc-b2uxfkRIFCLfI0uxyMWVH2mN6WCZTQYtimV5jkcGKCKRjhn_sCcYb4Y1RcLZKl-my1E3fMi0_CkJ4k84RUFQORsJDJ1uQJGwbA69ZuiET2Q3HHgZAM08XRGJLUZPPyxJ383RNEUddL3fgJUMAUnfDXjMQPJ_s7_tu8MImXEnUuCg26TWZokgnWe8FJHNYInBvlZLVEkSki5BOw6wTHjW1LVNIwlKqS_LpLZNehSRWaZaTqMmyEBNlBTfM-XsHqCCkZeQxuyGXWjifMDdoLkFtBiRQdlqi7uEcaJwAYy6SESGiLFNKh8h66OGDqpUuM7Luj5KjVhR7ERjWFTZNy5AXoM0pMaRK7nO4xz04a1Eiz5DOHG6hMIXR1YVj0h4j0oQF55Qk3HbKeNCUSK2kRpmgRd0ArxewG4igTCHAkQ9Ky1Br7H1P6GppoQfeSHgpkLFQXaGyMBaPgmNQNPoVSkRL11uRCCzMC5oTR0jfjOcMebQ1ajhCwjVq4M0B-ZCLPLjAu7fzCbXoQYIgYjUnu6mzE-kxxaOcyJYcztHbodeQDj8kNfOo5xyVgx0pUF_REGTQygMPviH-NhheQgHBQVgtgOuaKgSzcUORCc7kWT6Gdg_dQFj6zrEduEBWodvC18KLAcjTFSnzgStqS2QcmqEbTC1rkTTedyMtweOlaNP9SBEi1wKkM8x6aBaSHORJAt-RvGZgjVKqNcAu6SfzngpHmYXwwmL2JARziDDOa_poCXRQDyDVbrD05giDh5gh_ZEhYlJMqxCDHwZ9YG2giTLB7KFn5-NOgMnHECUslY6MwFwo6bAPb4NA1jh7WObTEkLHh4j32P0hfoij-5aKDGrD4N5Lfc8WYYuF47OxRdOsyb6S5lxWLKmwCs-Ukt0qdPuDwosO2wOFIBimQ7EcgAJmmuFzZjqES2SgzOmSRPz0H1juXghHCgAA\n",
    "\"\"\", width=\"100%\", height=183)"
   ]
  },
  {
   "cell_type": "markdown",
   "id": "61c60c5a-6928-4600-bae4-cf800013d754",
   "metadata": {},
   "source": [
    "## EchoBot"
   ]
  },
  {
   "cell_type": "markdown",
   "id": "60334cca-a97e-4410-8d9f-25e8455cfe8d",
   "metadata": {},
   "source": [
    "Up to now we are only displaying the message the user sent. Let's first simulate a conversation by replying exactly the same message we receive from the user. To do that we need to add a `response` function and a `result` function that will reply the last message (which will be the one sent by the user) and it will be activated once every time the counter `user_message_count` changes."
   ]
  },
  {
   "cell_type": "code",
   "execution_count": 44,
   "id": "ccda42c9-d62e-4e6c-8590-f2b77b953717",
   "metadata": {
    "execution": {
     "iopub.execute_input": "2024-04-18T13:04:15.109188Z",
     "iopub.status.busy": "2024-04-18T13:04:15.108279Z",
     "iopub.status.idle": "2024-04-18T13:04:15.157348Z",
     "shell.execute_reply": "2024-04-18T13:04:15.156376Z",
     "shell.execute_reply.started": "2024-04-18T13:04:15.109148Z"
    }
   },
   "outputs": [
    {
     "data": {
      "application/vnd.jupyter.widget-view+json": {
       "model_id": "336579dba01b46aba20eaf30627ea127",
       "version_major": 2,
       "version_minor": 0
      },
      "text/html": [
       "Cannot show widget. You probably want to rerun the code cell above (<i>Click in the code cell, and press Shift+Enter <kbd>⇧</kbd>+<kbd>↩</kbd></i>)."
      ],
      "text/plain": [
       "Cannot show ipywidgets in text"
      ]
     },
     "metadata": {},
     "output_type": "display_data"
    }
   ],
   "source": [
    "#| echo: true\n",
    "#| source-line-numbers: \"4,7-12\"\n",
    "#| class-source: \"numberLines\"\n",
    "messages: solara.Reactive[List[MessageDict]] = solara.reactive([])\n",
    "@solara.component\n",
    "def Page():\n",
    "    user_message_count = len([m for m in messages.value if m[\"role\"] == \"user\"])\n",
    "    def send(message):\n",
    "        messages.value = [*messages.value, {\"role\": \"user\", \"content\": message}]\n",
    "    def response(message):\n",
    "        messages.value = [*messages.value, {\"role\": \"assistant\", \"content\": message}]\n",
    "    def result():\n",
    "        if messages.value != []:\n",
    "            response(messages.value[-1][\"content\"])\n",
    "    result = solara.lab.use_task(result, dependencies=[user_message_count])\n",
    "    with solara.lab.ChatBox():\n",
    "        for item in messages.value:\n",
    "            with solara.lab.ChatMessage(\n",
    "                user=item[\"role\"] == \"user\",\n",
    "                name=\"User\" if item[\"role\"] == \"user\" else \"EchoBot\"\n",
    "            ):\n",
    "                solara.Markdown(item[\"content\"])\n",
    "    solara.lab.ChatInput(send_callback=send)\n",
    "Page()"
   ]
  },
  {
   "cell_type": "markdown",
   "id": "dd0aa8e2-c877-4575-a4ea-3f34ed9a66eb",
   "metadata": {},
   "source": [
    "The complete code can be found below."
   ]
  },
  {
   "cell_type": "code",
   "execution_count": 48,
   "id": "31caa01d-1c48-43c4-a5bf-a1b72fc4f612",
   "metadata": {
    "execution": {
     "iopub.execute_input": "2024-04-18T13:11:54.142799Z",
     "iopub.status.busy": "2024-04-18T13:11:54.142386Z",
     "iopub.status.idle": "2024-04-18T13:11:54.181404Z",
     "shell.execute_reply": "2024-04-18T13:11:54.180806Z",
     "shell.execute_reply.started": "2024-04-18T13:11:54.142757Z"
    }
   },
   "outputs": [
    {
     "data": {
      "application/vnd.jupyter.widget-view+json": {
       "model_id": "e2d67ee5e148410993d3e58b9319f33c",
       "version_major": 2,
       "version_minor": 0
      },
      "text/html": [
       "Cannot show widget. You probably want to rerun the code cell above (<i>Click in the code cell, and press Shift+Enter <kbd>⇧</kbd>+<kbd>↩</kbd></i>)."
      ],
      "text/plain": [
       "Cannot show ipywidgets in text"
      ]
     },
     "metadata": {},
     "output_type": "display_data"
    }
   ],
   "source": [
    "#| echo: true\n",
    "#| code-fold: true\n",
    "#| code-summary: \"Show the code\"\n",
    "import solara\n",
    "from typing import List\n",
    "from typing_extensions import TypedDict\n",
    "\n",
    "class MessageDict(TypedDict):\n",
    "    role: str\n",
    "    content: str\n",
    "\n",
    "messages: solara.Reactive[List[MessageDict]] = solara.reactive([])\n",
    "@solara.component\n",
    "def Page():\n",
    "    user_message_count = len([m for m in messages.value if m[\"role\"] == \"user\"])\n",
    "    def send(message):\n",
    "        messages.value = [*messages.value, {\"role\": \"user\", \"content\": message}]\n",
    "    def response(message):\n",
    "        messages.value = [*messages.value, {\"role\": \"assistant\", \"content\": message}]\n",
    "    def result():\n",
    "        if messages.value != []:\n",
    "            response(messages.value[-1][\"content\"])\n",
    "    result = solara.lab.use_task(result, dependencies=[user_message_count])\n",
    "    with solara.lab.ChatBox():\n",
    "        for item in messages.value:\n",
    "            with solara.lab.ChatMessage(\n",
    "                user=item[\"role\"] == \"user\",\n",
    "                name=\"User\" if item[\"role\"] == \"user\" else \"EchoBot\"\n",
    "            ):\n",
    "                solara.Markdown(item[\"content\"])\n",
    "    solara.lab.ChatInput(send_callback=send)\n",
    "Page()"
   ]
  },
  {
   "cell_type": "markdown",
   "id": "c4704527-9c46-4f19-938d-2e2333852018",
   "metadata": {},
   "source": [
    "Up to now, our EchoBot application looks like this. Try it out!"
   ]
  },
  {
   "cell_type": "code",
   "execution_count": 59,
   "id": "eb41ff3c-62e5-4c5f-a355-fa2e9a5fd975",
   "metadata": {
    "execution": {
     "iopub.execute_input": "2024-04-18T13:34:41.684011Z",
     "iopub.status.busy": "2024-04-18T13:34:41.683435Z",
     "iopub.status.idle": "2024-04-18T13:34:41.692509Z",
     "shell.execute_reply": "2024-04-18T13:34:41.691265Z",
     "shell.execute_reply.started": "2024-04-18T13:34:41.683963Z"
    }
   },
   "outputs": [
    {
     "data": {
      "text/html": [
       "\n",
       "        <iframe\n",
       "            width=\"100%\"\n",
       "            height=\"400\"\n",
       "            src=\"https://alonsosilva-echobot.hf.space\"\n",
       "            frameborder=\"0\"\n",
       "            allowfullscreen\n",
       "            \n",
       "        ></iframe>\n",
       "        "
      ],
      "text/plain": [
       "<IPython.lib.display.IFrame at 0x7f1384fb3410>"
      ]
     },
     "execution_count": 59,
     "metadata": {},
     "output_type": "execute_result"
    }
   ],
   "source": [
    "#| echo: false\n",
    "from IPython.display import IFrame\n",
    "IFrame(\"https://alonsosilva-echobot.hf.space\", width=\"100%\", height=400)"
   ]
  },
  {
   "cell_type": "markdown",
   "id": "afbcb59a-b5ad-41a8-b245-ebcb600a50fe",
   "metadata": {},
   "source": [
    "## StreamBot"
   ]
  },
  {
   "cell_type": "markdown",
   "id": "0f7975c3-6dae-4abd-9864-3db40f2757ef",
   "metadata": {},
   "source": [
    "Let's now build a Bot that will stream a response message. Let's first emulate a streamed response with a function that we call `response_generator`."
   ]
  },
  {
   "cell_type": "code",
   "execution_count": 50,
   "id": "9a2e98a7-d816-494d-a5d3-1e4416ea473d",
   "metadata": {
    "execution": {
     "iopub.execute_input": "2024-04-18T13:18:50.100717Z",
     "iopub.status.busy": "2024-04-18T13:18:50.100185Z",
     "iopub.status.idle": "2024-04-18T13:18:50.107921Z",
     "shell.execute_reply": "2024-04-18T13:18:50.106816Z",
     "shell.execute_reply.started": "2024-04-18T13:18:50.100675Z"
    }
   },
   "outputs": [],
   "source": [
    "#| echo: true\n",
    "# Streamed response emulator\n",
    "import time\n",
    "import random\n",
    "def response_generator():\n",
    "    response = random.choice(\n",
    "        [\n",
    "            \"Hello! How can I assist you today?\",\n",
    "            \"Hello! If you have any questions or need help with something, feel free to ask.\",\n",
    "        ]\n",
    "    )\n",
    "    for word in response.split():\n",
    "        yield word + \" \"\n",
    "        time.sleep(0.05)"
   ]
  },
  {
   "cell_type": "markdown",
   "id": "97bede3d-1e9c-41e9-975a-c095e5f4964e",
   "metadata": {},
   "source": [
    "Let's see that it's working as expected."
   ]
  },
  {
   "cell_type": "code",
   "execution_count": 9,
   "id": "5543e004-e74f-46a4-8363-a653b132cd44",
   "metadata": {
    "execution": {
     "iopub.execute_input": "2024-04-18T10:20:40.315455Z",
     "iopub.status.busy": "2024-04-18T10:20:40.314655Z",
     "iopub.status.idle": "2024-04-18T10:20:40.682585Z",
     "shell.execute_reply": "2024-04-18T10:20:40.681056Z",
     "shell.execute_reply.started": "2024-04-18T10:20:40.315410Z"
    }
   },
   "outputs": [
    {
     "name": "stdout",
     "output_type": "stream",
     "text": [
      "Hello! \n",
      "How \n",
      "can \n",
      "I \n",
      "assist \n",
      "you \n",
      "today? \n"
     ]
    }
   ],
   "source": [
    "#| echo: true\n",
    "for chunk in response_generator():\n",
    "    print(chunk)"
   ]
  },
  {
   "cell_type": "markdown",
   "id": "f5a0dabb-9dcc-49aa-a3b4-3741a3228239",
   "metadata": {},
   "source": [
    "It works. Notice that for the moment the `response_generator` function will give one of the two possible responses at random without considering the user message.\n",
    "\n",
    "Let's now create a function that will be adding the chunks successively to the message."
   ]
  },
  {
   "cell_type": "code",
   "execution_count": 54,
   "id": "7b9f8920-d4d4-4595-a96c-a89c362a684d",
   "metadata": {
    "execution": {
     "iopub.execute_input": "2024-04-18T13:24:28.879481Z",
     "iopub.status.busy": "2024-04-18T13:24:28.878951Z",
     "iopub.status.idle": "2024-04-18T13:24:28.886710Z",
     "shell.execute_reply": "2024-04-18T13:24:28.885405Z",
     "shell.execute_reply.started": "2024-04-18T13:24:28.879437Z"
    }
   },
   "outputs": [],
   "source": [
    "#| echo: true\n",
    "def add_chunk_to_ai_message(chunk: str):\n",
    "    messages.value = [\n",
    "        *messages.value[:-1],\n",
    "        {\n",
    "            \"role\": \"assistant\",\n",
    "            \"content\": messages.value[-1][\"content\"] + chunk,\n",
    "        },\n",
    "    ]"
   ]
  },
  {
   "cell_type": "markdown",
   "id": "adddf8b0-7a2e-4fc7-ab3e-0753d516405f",
   "metadata": {},
   "source": [
    "We need to modify the EchoBot code to include this functionality as follows."
   ]
  },
  {
   "cell_type": "code",
   "execution_count": 55,
   "id": "1e2340ae-8179-4418-9309-29be8c5b987b",
   "metadata": {
    "execution": {
     "iopub.execute_input": "2024-04-18T13:26:06.845745Z",
     "iopub.status.busy": "2024-04-18T13:26:06.844740Z",
     "iopub.status.idle": "2024-04-18T13:26:06.886792Z",
     "shell.execute_reply": "2024-04-18T13:26:06.886007Z",
     "shell.execute_reply.started": "2024-04-18T13:26:06.845675Z"
    }
   },
   "outputs": [
    {
     "data": {
      "application/vnd.jupyter.widget-view+json": {
       "model_id": "48b4c952ed01431d8ccedfeb2f6068a2",
       "version_major": 2,
       "version_minor": 0
      },
      "text/html": [
       "Cannot show widget. You probably want to rerun the code cell above (<i>Click in the code cell, and press Shift+Enter <kbd>⇧</kbd>+<kbd>↩</kbd></i>)."
      ],
      "text/plain": [
       "Cannot show ipywidgets in text"
      ]
     },
     "metadata": {},
     "output_type": "display_data"
    }
   ],
   "source": [
    "#| echo: true\n",
    "#| source-line-numbers: \"8-10\"\n",
    "#| class-source: \"numberLines\"\n",
    "messages: solara.Reactive[List[MessageDict]] = solara.reactive([])\n",
    "@solara.component\n",
    "def Page():\n",
    "    user_message_count = len([m for m in messages.value if m[\"role\"] == \"user\"])\n",
    "    def send(message):\n",
    "        messages.value = [*messages.value, {\"role\": \"user\", \"content\": message}]\n",
    "    def response(message):\n",
    "        messages.value = [*messages.value, {\"role\": \"assistant\", \"content\": \"\"}]\n",
    "        for chunk in response_generator():\n",
    "            add_chunk_to_ai_message(chunk)\n",
    "    def result():\n",
    "        if messages.value != []:\n",
    "            response(messages.value[-1][\"content\"])\n",
    "    result = solara.lab.use_task(result, dependencies=[user_message_count])\n",
    "    with solara.lab.ChatBox():\n",
    "        for item in messages.value:\n",
    "            with solara.lab.ChatMessage(\n",
    "                user=item[\"role\"] == \"user\",\n",
    "                name=\"User\" if item[\"role\"] == \"user\" else \"StreamBot\"\n",
    "            ):\n",
    "                solara.Markdown(item[\"content\"])\n",
    "    solara.lab.ChatInput(send_callback=send)\n",
    "Page()"
   ]
  },
  {
   "cell_type": "markdown",
   "id": "f1f63cdb-961e-4f56-9742-eb14ebb5f501",
   "metadata": {},
   "source": [
    "The complete code can be found below."
   ]
  },
  {
   "cell_type": "code",
   "execution_count": 56,
   "id": "90fb4d5b-99af-42e7-b612-ce897cf4bed6",
   "metadata": {
    "execution": {
     "iopub.execute_input": "2024-04-18T13:31:18.307954Z",
     "iopub.status.busy": "2024-04-18T13:31:18.307413Z",
     "iopub.status.idle": "2024-04-18T13:31:18.350482Z",
     "shell.execute_reply": "2024-04-18T13:31:18.349509Z",
     "shell.execute_reply.started": "2024-04-18T13:31:18.307910Z"
    }
   },
   "outputs": [
    {
     "data": {
      "application/vnd.jupyter.widget-view+json": {
       "model_id": "acf59e0bf5b74a7c9afb47d4c55ea142",
       "version_major": 2,
       "version_minor": 0
      },
      "text/html": [
       "Cannot show widget. You probably want to rerun the code cell above (<i>Click in the code cell, and press Shift+Enter <kbd>⇧</kbd>+<kbd>↩</kbd></i>)."
      ],
      "text/plain": [
       "Cannot show ipywidgets in text"
      ]
     },
     "metadata": {},
     "output_type": "display_data"
    }
   ],
   "source": [
    "#| echo: true\n",
    "#| code-fold: true\n",
    "#| code-summary: \"Show the code\"\n",
    "import solara\n",
    "import time\n",
    "import random\n",
    "from typing import List\n",
    "from typing_extensions import TypedDict\n",
    "\n",
    "class MessageDict(TypedDict):\n",
    "    role: str\n",
    "    content: str\n",
    "\n",
    "messages: solara.Reactive[List[MessageDict]] = solara.reactive([])\n",
    "\n",
    "# Streamed response emulator\n",
    "def response_generator():\n",
    "    response = random.choice(\n",
    "        [\n",
    "            \"Hello! How can I assist you today?\",\n",
    "            \"Hello! If you have any questions or need help with something, feel free to ask.\",\n",
    "        ]\n",
    "    )\n",
    "    for word in response.split():\n",
    "        yield word + \" \"\n",
    "        time.sleep(0.05)\n",
    "\n",
    "def add_chunk_to_ai_message(chunk: str):\n",
    "    messages.value = [\n",
    "        *messages.value[:-1],\n",
    "        {\n",
    "            \"role\": \"assistant\",\n",
    "            \"content\": messages.value[-1][\"content\"] + chunk,\n",
    "        },\n",
    "    ]\n",
    "    \n",
    "messages: solara.Reactive[List[MessageDict]] = solara.reactive([])\n",
    "@solara.component\n",
    "def Page():\n",
    "    user_message_count = len([m for m in messages.value if m[\"role\"] == \"user\"])\n",
    "    def send(message):\n",
    "        messages.value = [*messages.value, {\"role\": \"user\", \"content\": message}]\n",
    "    def response(message):\n",
    "        messages.value = [*messages.value, {\"role\": \"assistant\", \"content\": \"\"}]\n",
    "        for chunk in response_generator():\n",
    "            add_chunk_to_ai_message(chunk)\n",
    "    def result():\n",
    "        if messages.value != []:\n",
    "            response(messages.value[-1][\"content\"])\n",
    "    result = solara.lab.use_task(result, dependencies=[user_message_count])\n",
    "    with solara.lab.ChatBox():\n",
    "        for item in messages.value:\n",
    "            with solara.lab.ChatMessage(\n",
    "                user=item[\"role\"] == \"user\",\n",
    "                name=\"User\" if item[\"role\"] == \"user\" else \"StreamBot\"\n",
    "            ):\n",
    "                solara.Markdown(item[\"content\"])\n",
    "    solara.lab.ChatInput(send_callback=send)\n",
    "Page()"
   ]
  },
  {
   "cell_type": "markdown",
   "id": "4cb5fc7e-43c7-48d6-966f-e04214910fa6",
   "metadata": {},
   "source": [
    "Our StreamBot application looks like this. Try it out!"
   ]
  },
  {
   "cell_type": "code",
   "execution_count": 60,
   "id": "bedc8770-23d4-419e-81be-5abdcfb90754",
   "metadata": {
    "execution": {
     "iopub.execute_input": "2024-04-18T13:39:58.764677Z",
     "iopub.status.busy": "2024-04-18T13:39:58.764147Z",
     "iopub.status.idle": "2024-04-18T13:39:58.773352Z",
     "shell.execute_reply": "2024-04-18T13:39:58.772288Z",
     "shell.execute_reply.started": "2024-04-18T13:39:58.764633Z"
    }
   },
   "outputs": [
    {
     "data": {
      "text/html": [
       "\n",
       "        <iframe\n",
       "            width=\"100%\"\n",
       "            height=\"400\"\n",
       "            src=\"https://alonsosilva-streambot.hf.space\"\n",
       "            frameborder=\"0\"\n",
       "            allowfullscreen\n",
       "            \n",
       "        ></iframe>\n",
       "        "
      ],
      "text/plain": [
       "<IPython.lib.display.IFrame at 0x7f1384ebbb90>"
      ]
     },
     "execution_count": 60,
     "metadata": {},
     "output_type": "execute_result"
    }
   ],
   "source": [
    "#| echo: false\n",
    "from IPython.display import IFrame\n",
    "IFrame(\"https://alonsosilva-streambot.hf.space\", width=\"100%\", height=400)"
   ]
  },
  {
   "cell_type": "markdown",
   "id": "5b9180e3-c80c-4ad3-906e-c3b64fb2d130",
   "metadata": {},
   "source": [
    "## ChatGPT bot"
   ]
  },
  {
   "cell_type": "markdown",
   "id": "84f71412-f6cc-4956-a25c-61c60a602c0e",
   "metadata": {},
   "source": [
    "The StreamBot application don't take into account the user message. To reply something coherent, let's use one of OpenAI models (in this example, `gpt-3.5-turbo`)."
   ]
  },
  {
   "cell_type": "markdown",
   "id": "6823d251-f462-4f30-9a77-713ae58064cf",
   "metadata": {},
   "source": [
    "First, obtain an `OPENAI_API_KEY=sk-...` and replace it below."
   ]
  },
  {
   "cell_type": "code",
   "execution_count": 63,
   "id": "48dcc2cc-e5f8-4006-9f7f-d408520850d6",
   "metadata": {
    "execution": {
     "iopub.execute_input": "2024-04-18T13:50:12.948204Z",
     "iopub.status.busy": "2024-04-18T13:50:12.947454Z",
     "iopub.status.idle": "2024-04-18T13:50:13.033620Z",
     "shell.execute_reply": "2024-04-18T13:50:13.033244Z",
     "shell.execute_reply.started": "2024-04-18T13:50:12.948163Z"
    }
   },
   "outputs": [],
   "source": [
    "#| echo: true\n",
    "import os\n",
    "import openai\n",
    "from openai import OpenAI\n",
    "from dotenv import load_dotenv, find_dotenv\n",
    "_ = load_dotenv(find_dotenv()) # read local .env file\n",
    "openai.api_key = os.environ['OPENAI_API_KEY']\n",
    "\n",
    "client = OpenAI()"
   ]
  },
  {
   "cell_type": "markdown",
   "id": "a51dfb86-64ff-419d-bd75-bcdaedd4859b",
   "metadata": {},
   "source": [
    "Now we can define a new `response_generator` function that will use OpenAI to give a coherent answer."
   ]
  },
  {
   "cell_type": "code",
   "execution_count": 64,
   "id": "b5db9930-3244-4ddf-89e4-35135c8d0712",
   "metadata": {
    "execution": {
     "iopub.execute_input": "2024-04-18T13:50:13.758152Z",
     "iopub.status.busy": "2024-04-18T13:50:13.757652Z",
     "iopub.status.idle": "2024-04-18T13:50:13.765157Z",
     "shell.execute_reply": "2024-04-18T13:50:13.763979Z",
     "shell.execute_reply.started": "2024-04-18T13:50:13.758108Z"
    }
   },
   "outputs": [],
   "source": [
    "#| echo: true\n",
    "def response_generator(message):\n",
    "    return client.chat.completions.create(\n",
    "        model=\"gpt-3.5-turbo\",\n",
    "        messages=[\n",
    "           {\"role\": \"system\", \"content\": \"You are a helpful assistant.\"},\n",
    "           {\"role\": \"user\", \"content\": message}\n",
    "        ],\n",
    "        stream=True\n",
    "    )"
   ]
  },
  {
   "cell_type": "markdown",
   "id": "c8f073e6-e750-436f-98b3-b9e6995a9bcc",
   "metadata": {},
   "source": [
    "Let's see that it works (as you can see in the code, we need to add some cleaning to the chunks and verify they are not `None`)."
   ]
  },
  {
   "cell_type": "code",
   "execution_count": 65,
   "id": "ad7223d7-253a-471d-b28e-56d2235d2357",
   "metadata": {
    "execution": {
     "iopub.execute_input": "2024-04-18T13:50:14.806069Z",
     "iopub.status.busy": "2024-04-18T13:50:14.805606Z",
     "iopub.status.idle": "2024-04-18T13:50:16.191411Z",
     "shell.execute_reply": "2024-04-18T13:50:16.190188Z",
     "shell.execute_reply.started": "2024-04-18T13:50:14.806028Z"
    }
   },
   "outputs": [
    {
     "name": "stdout",
     "output_type": "stream",
     "text": [
      "\n",
      "Hello\n",
      "!\n",
      " How\n",
      " can\n",
      " I\n",
      " assist\n",
      " you\n",
      " today\n",
      "?\n"
     ]
    }
   ],
   "source": [
    "#| echo: true\n",
    "for chunk in response_generator(\"Hello!\"):\n",
    "    if chunk.choices[0].delta.content is not None:\n",
    "        print(chunk.choices[0].delta.content)"
   ]
  },
  {
   "cell_type": "markdown",
   "id": "3b441c38-3b5f-4c4e-844a-ed7b2107846b",
   "metadata": {},
   "source": [
    "We need to modify the StreamBot code as follows."
   ]
  },
  {
   "cell_type": "code",
   "execution_count": 67,
   "id": "6a8b0887-d960-407c-8823-1ac0f9b690c0",
   "metadata": {
    "execution": {
     "iopub.execute_input": "2024-04-18T13:54:21.794517Z",
     "iopub.status.busy": "2024-04-18T13:54:21.793696Z",
     "iopub.status.idle": "2024-04-18T13:54:21.830225Z",
     "shell.execute_reply": "2024-04-18T13:54:21.829637Z",
     "shell.execute_reply.started": "2024-04-18T13:54:21.794475Z"
    }
   },
   "outputs": [
    {
     "data": {
      "application/vnd.jupyter.widget-view+json": {
       "model_id": "9c3f49831b514df584e4f594e522098e",
       "version_major": 2,
       "version_minor": 0
      },
      "text/html": [
       "Cannot show widget. You probably want to rerun the code cell above (<i>Click in the code cell, and press Shift+Enter <kbd>⇧</kbd>+<kbd>↩</kbd></i>)."
      ],
      "text/plain": [
       "Cannot show ipywidgets in text"
      ]
     },
     "metadata": {},
     "output_type": "display_data"
    }
   ],
   "source": [
    "#| echo: true\n",
    "#| source-line-numbers: \"10-11\"\n",
    "#| class-source: \"numberLines\"\n",
    "messages: solara.Reactive[List[MessageDict]] = solara.reactive([])\n",
    "@solara.component\n",
    "def Page():\n",
    "    user_message_count = len([m for m in messages.value if m[\"role\"] == \"user\"])\n",
    "    def send(message):\n",
    "        messages.value = [*messages.value, {\"role\": \"user\", \"content\": message}]\n",
    "    def response(message):\n",
    "        messages.value = [*messages.value, {\"role\": \"assistant\", \"content\": \"\"}]\n",
    "        for chunk in response_generator(message):\n",
    "            if chunk.choices[0].delta.content is not None:\n",
    "                add_chunk_to_ai_message(chunk.choices[0].delta.content)\n",
    "    def result():\n",
    "        if messages.value != []:\n",
    "            response(messages.value[-1][\"content\"])\n",
    "    result = solara.lab.use_task(result, dependencies=[user_message_count])\n",
    "    with solara.lab.ChatBox():\n",
    "        for item in messages.value:\n",
    "            with solara.lab.ChatMessage(\n",
    "                user=item[\"role\"] == \"user\",\n",
    "                name=\"User\" if item[\"role\"] == \"user\" else \"ChatGPT\"\n",
    "            ):\n",
    "                solara.Markdown(item[\"content\"])\n",
    "    solara.lab.ChatInput(send_callback=send)\n",
    "Page()"
   ]
  },
  {
   "cell_type": "markdown",
   "id": "273588e6-6a67-4722-a07a-65e6b9ee5770",
   "metadata": {},
   "source": [
    "The complete code can be found below."
   ]
  },
  {
   "cell_type": "code",
   "execution_count": 69,
   "id": "939e6a8d-c05f-4c89-86d6-0057ceee1c99",
   "metadata": {
    "execution": {
     "iopub.execute_input": "2024-04-18T14:02:14.316478Z",
     "iopub.status.busy": "2024-04-18T14:02:14.315828Z",
     "iopub.status.idle": "2024-04-18T14:02:14.415991Z",
     "shell.execute_reply": "2024-04-18T14:02:14.415320Z",
     "shell.execute_reply.started": "2024-04-18T14:02:14.316412Z"
    }
   },
   "outputs": [
    {
     "data": {
      "application/vnd.jupyter.widget-view+json": {
       "model_id": "ca84cb557491435d9cd8d4d87df757f1",
       "version_major": 2,
       "version_minor": 0
      },
      "text/html": [
       "Cannot show widget. You probably want to rerun the code cell above (<i>Click in the code cell, and press Shift+Enter <kbd>⇧</kbd>+<kbd>↩</kbd></i>)."
      ],
      "text/plain": [
       "Cannot show ipywidgets in text"
      ]
     },
     "metadata": {},
     "output_type": "display_data"
    }
   ],
   "source": [
    "#| echo: true\n",
    "#| code-fold: true\n",
    "#| code-summary: \"Show the code\"\n",
    "import solara\n",
    "from typing import List\n",
    "from typing_extensions import TypedDict\n",
    "import os\n",
    "import openai\n",
    "from openai import OpenAI\n",
    "\n",
    "openai.api_key = os.environ['OPENAI_API_KEY']\n",
    "\n",
    "client = OpenAI()\n",
    "\n",
    "def response_generator(message):\n",
    "    return client.chat.completions.create(\n",
    "        model=\"gpt-3.5-turbo\",\n",
    "        messages=[\n",
    "           {\"role\": \"system\", \"content\": \"You are a helpful assistant.\"},\n",
    "           {\"role\": \"user\", \"content\": message}\n",
    "        ],\n",
    "        stream=True\n",
    "    )\n",
    "\n",
    "class MessageDict(TypedDict):\n",
    "    role: str\n",
    "    content: str\n",
    "\n",
    "messages: solara.Reactive[List[MessageDict]] = solara.reactive([])\n",
    "@solara.component\n",
    "def Page():\n",
    "    user_message_count = len([m for m in messages.value if m[\"role\"] == \"user\"])\n",
    "    def send(message):\n",
    "        messages.value = [*messages.value, {\"role\": \"user\", \"content\": message}]\n",
    "    def response(message):\n",
    "        messages.value = [*messages.value, {\"role\": \"assistant\", \"content\": \"\"}]\n",
    "        for chunk in response_generator(message):\n",
    "            if chunk.choices[0].delta.content is not None:\n",
    "                add_chunk_to_ai_message(chunk.choices[0].delta.content)\n",
    "    def result():\n",
    "        if messages.value != []:\n",
    "            response(messages.value[-1][\"content\"])\n",
    "    result = solara.lab.use_task(result, dependencies=[user_message_count])\n",
    "    with solara.lab.ChatBox():\n",
    "        for item in messages.value:\n",
    "            with solara.lab.ChatMessage(\n",
    "                user=item[\"role\"] == \"user\",\n",
    "                name=\"User\" if item[\"role\"] == \"user\" else \"ChatGPT\"\n",
    "            ):\n",
    "                solara.Markdown(item[\"content\"])\n",
    "    solara.lab.ChatInput(send_callback=send)\n",
    "Page()"
   ]
  },
  {
   "cell_type": "code",
   "execution_count": null,
   "id": "df200ded-48ea-4251-972c-5624994660fe",
   "metadata": {},
   "outputs": [],
   "source": []
  }
 ],
 "metadata": {
  "kernelspec": {
   "display_name": "Python 3 (ipykernel)",
   "language": "python",
   "name": "python3"
  },
  "language_info": {
   "codemirror_mode": {
    "name": "ipython",
    "version": 3
   },
   "file_extension": ".py",
   "mimetype": "text/x-python",
   "name": "python",
   "nbconvert_exporter": "python",
   "pygments_lexer": "ipython3",
   "version": "3.10.12"
  }
 },
 "nbformat": 4,
 "nbformat_minor": 5
}
