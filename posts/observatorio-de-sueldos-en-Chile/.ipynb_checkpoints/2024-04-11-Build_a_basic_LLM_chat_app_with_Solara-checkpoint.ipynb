{
 "cells": [
  {
   "cell_type": "raw",
   "id": "d6c9b7c8-78dc-4f60-9b24-cf8c4843a102",
   "metadata": {},
   "source": [
    "---\n",
    "title: \"Build a basic LLM chat app with Solara\"\n",
    "author: \"Alonso Silva\"\n",
    "date: \"2024-04-11\"\n",
    "categories: [code, analysis]\n",
    "image: \"ingreso-promedio.png\"\n",
    "format:\n",
    "    html:\n",
    "        code-fold: true\n",
    "jupyter: python3\n",
    "---"
   ]
  },
  {
   "cell_type": "markdown",
   "id": "709063c5-c9f9-46db-bb5d-604a5c249200",
   "metadata": {},
   "source": [
    "# Build a basic LLM chat app with Solara"
   ]
  },
  {
   "cell_type": "markdown",
   "id": "93a88d88-332b-4610-8bdb-0d58a3617b16",
   "metadata": {},
   "source": [
    "[Run and edit this code snippet at PyCafe](https://app.py.cafe/snippet/solara/v1?c=H4sIAIEbGGYAA3VSy2rDMBD8FVUnB0w-wBAofUAPDZSS9mKZotjrRFReuZKcByH_3lUlB6ele5JmRrOzYk-8Ng3wgquuN9YzZ7S0UmBrTcf8sVe4YYl6Vs5fER9w8IBOGXSjZnXsoXlQNQkF1lo6x5bgnNxAALMLPSsEMiprNBTMeRuvtUFy9AkR2MW3joCfXPNXkLVXOyhDmHJiXVVsMYpsEmVlNRN4m9DaUEQkd4ENtOyFHmZjjLHPfCf1AORUngQP2QQvmOCDAyt4TqcUMMJPoLW5EfxcRZe98tsxg5br-f1W-jtzuHQJ1RrLlIeOKfzVdSL6zyzNm10rQ4WEi5UdIP_LoexgIfhbHOKan0YbKzVdSvvZmD1mIW45GT18avw9nnMLX4Oy0BHjaIsEEkbbETYq-tBd9v27gj0vWqkd5Bwa5R9RrjWpPGU-fwNCNJDshQIAAA)"
   ]
  },
  {
   "cell_type": "code",
   "execution_count": 2,
   "id": "232e99fb-1bcb-4c11-ad67-1722a35f6cd9",
   "metadata": {
    "execution": {
     "iopub.execute_input": "2024-04-11T17:26:04.645984Z",
     "iopub.status.busy": "2024-04-11T17:26:04.645470Z",
     "iopub.status.idle": "2024-04-11T17:26:05.052555Z",
     "shell.execute_reply": "2024-04-11T17:26:05.052024Z",
     "shell.execute_reply.started": "2024-04-11T17:26:04.645941Z"
    }
   },
   "outputs": [
    {
     "data": {
      "application/vnd.jupyter.widget-view+json": {
       "model_id": "b89e264b14ee4d5bb081a14dd4249e7b",
       "version_major": 2,
       "version_minor": 0
      },
      "text/html": [
       "Cannot show widget. You probably want to rerun the code cell above (<i>Click in the code cell, and press Shift+Enter <kbd>⇧</kbd>+<kbd>↩</kbd></i>)."
      ],
      "text/plain": [
       "Cannot show ipywidgets in text"
      ]
     },
     "metadata": {},
     "output_type": "display_data"
    }
   ],
   "source": [
    "import solara\n",
    "from typing import List\n",
    "from typing_extensions import TypedDict\n",
    "\n",
    "class MessageDict(TypedDict):\n",
    "    role: str\n",
    "    content: str\n",
    "\n",
    "messages: solara.Reactive[List[MessageDict]] = solara.reactive([])\n",
    "@solara.component\n",
    "def Page():\n",
    "    messages.value = [{\"role\": \"user\", \"content\": \"Hello!\"}]\n",
    "    with solara.lab.ChatBox():\n",
    "        for item in messages.value:\n",
    "            with solara.lab.ChatMessage(\n",
    "                user=True,\n",
    "                name=\"User\",\n",
    "            ):\n",
    "                solara.Markdown(item[\"content\"])\n",
    "Page()"
   ]
  },
  {
   "cell_type": "raw",
   "id": "4d76097b-416b-4734-af10-53f5a74bbebb",
   "metadata": {
    "execution": {
     "iopub.execute_input": "2024-04-11T17:22:32.552914Z",
     "iopub.status.busy": "2024-04-11T17:22:32.551944Z",
     "iopub.status.idle": "2024-04-11T17:22:32.565758Z",
     "shell.execute_reply": "2024-04-11T17:22:32.564490Z",
     "shell.execute_reply.started": "2024-04-11T17:22:32.552865Z"
    }
   },
   "source": [
    "```{=html}\n",
    "<iframe src=\"https://app.py.cafe/snippet/solara?c=H4sIAIwbGGYAA3VSy2rDMBD8FVUnB0I-wBAofUAPDZSS9mKZotjrRFReuZKcByH_3lUlB7ule5JmRrOzYs-8MjXwnKu2M9YzZ7S0UmBjTcv8qVO4ZYl6Vs5PiA84ekCnDLpBsz51UD-oioQCKy2dYytwTm4hgNmVnuUCGZU1GnLmvI3XyiA5-oQIbONbR8BPrsUryMqrPRQhTDGyLku2HEQ2ibKinAm8TWhlKCKSu8AaGvZCD7MhxtBnsZe6B3IqzoKHbILnTPDegRV8TqcUMMJPoLW5EfxSRpeD8rshg5abxf1O-jtzvHYJ1RjLlIeWKfzVdST6zyzNm02VoULC5dr2MP_LoWxhKfhbHGLKj6MNlZqupP2szQGzELcYjR4-Nf4en3MLX72y0BLjaIsEEkbbETYq-tBddt27ggPPfQjIoVb-EeVGk6iR2sHlG7LZFJiFAgAA\" width=\"100%\" height=\"400px\"></iframe>\n",
    "```"
   ]
  },
  {
   "cell_type": "code",
   "execution_count": null,
   "id": "de3b1759-a776-4909-b6ea-f56250f74654",
   "metadata": {},
   "outputs": [],
   "source": []
  }
 ],
 "metadata": {
  "kernelspec": {
   "display_name": "Python [conda env:instructor2]",
   "language": "python",
   "name": "conda-env-instructor2-py"
  },
  "language_info": {
   "codemirror_mode": {
    "name": "ipython",
    "version": 3
   },
   "file_extension": ".py",
   "mimetype": "text/x-python",
   "name": "python",
   "nbconvert_exporter": "python",
   "pygments_lexer": "ipython3",
   "version": "3.11.8"
  }
 },
 "nbformat": 4,
 "nbformat_minor": 5
}
